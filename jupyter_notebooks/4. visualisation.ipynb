{
  "cells": [
    {
      "cell_type": "markdown",
      "metadata": {
        "id": "0aStgWSO0E0E"
      },
      "source": [
        "# **Visualisations**"
      ]
    },
    {
      "cell_type": "markdown",
      "metadata": {
        "id": "1eLEkw5O0ECa"
      },
      "source": [
        "This section presents key visual insights that support the analysis of climate tipping points. Through scatterplots, boxplots, and regression visuals, the relationships between renewable energy adoption, energy intensity, and CO₂ emissions per capita are explored. These visualisations help uncover patterns, outliers, and potential thresholds critical to understanding the dynamics of global decarbonisation efforts.\n",
        "\n"
      ]
    },
    {
      "cell_type": "code",
      "execution_count": 1,
      "metadata": {},
      "outputs": [
        {
          "data": {
            "text/html": [
              "<div>\n",
              "<style scoped>\n",
              "    .dataframe tbody tr th:only-of-type {\n",
              "        vertical-align: middle;\n",
              "    }\n",
              "\n",
              "    .dataframe tbody tr th {\n",
              "        vertical-align: top;\n",
              "    }\n",
              "\n",
              "    .dataframe thead th {\n",
              "        text-align: right;\n",
              "    }\n",
              "</style>\n",
              "<table border=\"1\" class=\"dataframe\">\n",
              "  <thead>\n",
              "    <tr style=\"text-align: right;\">\n",
              "      <th></th>\n",
              "      <th>country</th>\n",
              "      <th>year</th>\n",
              "      <th>elec_access_pct</th>\n",
              "      <th>clean_fuels_access_pct</th>\n",
              "      <th>renew_cap_kw_pc</th>\n",
              "      <th>climate_finance_usd</th>\n",
              "      <th>renewables_share_pct</th>\n",
              "      <th>fossil_elec_twh</th>\n",
              "      <th>nuclear_elec_twh</th>\n",
              "      <th>renew_elec_twh</th>\n",
              "      <th>...</th>\n",
              "      <th>region_miss</th>\n",
              "      <th>subregion_miss</th>\n",
              "      <th>co2_per_capita_t</th>\n",
              "      <th>log_co2_per_capita_t</th>\n",
              "      <th>log_renewables_share_pct</th>\n",
              "      <th>log_energy_intensity_mj_usd</th>\n",
              "      <th>log_gdp_pc_usd</th>\n",
              "      <th>above_30_pct</th>\n",
              "      <th>year_offset</th>\n",
              "      <th>renewables_3yr_avg</th>\n",
              "    </tr>\n",
              "  </thead>\n",
              "  <tbody>\n",
              "    <tr>\n",
              "      <th>0</th>\n",
              "      <td>Afghanistan</td>\n",
              "      <td>2000</td>\n",
              "      <td>1.613591</td>\n",
              "      <td>6.2</td>\n",
              "      <td>9.22</td>\n",
              "      <td>20000.0</td>\n",
              "      <td>44.99</td>\n",
              "      <td>0.16</td>\n",
              "      <td>0.0</td>\n",
              "      <td>0.31</td>\n",
              "      <td>...</td>\n",
              "      <td>0</td>\n",
              "      <td>0</td>\n",
              "      <td>0.037754</td>\n",
              "      <td>0.037059</td>\n",
              "      <td>3.828424</td>\n",
              "      <td>0.970779</td>\n",
              "      <td>5.195324</td>\n",
              "      <td>1</td>\n",
              "      <td>0</td>\n",
              "      <td>44.990000</td>\n",
              "    </tr>\n",
              "    <tr>\n",
              "      <th>1</th>\n",
              "      <td>Afghanistan</td>\n",
              "      <td>2001</td>\n",
              "      <td>4.074574</td>\n",
              "      <td>7.2</td>\n",
              "      <td>8.86</td>\n",
              "      <td>130000.0</td>\n",
              "      <td>45.60</td>\n",
              "      <td>0.09</td>\n",
              "      <td>0.0</td>\n",
              "      <td>0.50</td>\n",
              "      <td>...</td>\n",
              "      <td>0</td>\n",
              "      <td>0</td>\n",
              "      <td>0.035988</td>\n",
              "      <td>0.035356</td>\n",
              "      <td>3.841601</td>\n",
              "      <td>1.007958</td>\n",
              "      <td>5.195324</td>\n",
              "      <td>1</td>\n",
              "      <td>1</td>\n",
              "      <td>45.295000</td>\n",
              "    </tr>\n",
              "    <tr>\n",
              "      <th>2</th>\n",
              "      <td>Afghanistan</td>\n",
              "      <td>2002</td>\n",
              "      <td>9.409158</td>\n",
              "      <td>8.2</td>\n",
              "      <td>8.47</td>\n",
              "      <td>3950000.0</td>\n",
              "      <td>37.83</td>\n",
              "      <td>0.13</td>\n",
              "      <td>0.0</td>\n",
              "      <td>0.56</td>\n",
              "      <td>...</td>\n",
              "      <td>0</td>\n",
              "      <td>0</td>\n",
              "      <td>0.048180</td>\n",
              "      <td>0.047055</td>\n",
              "      <td>3.659193</td>\n",
              "      <td>0.875469</td>\n",
              "      <td>5.195324</td>\n",
              "      <td>1</td>\n",
              "      <td>2</td>\n",
              "      <td>42.806667</td>\n",
              "    </tr>\n",
              "    <tr>\n",
              "      <th>3</th>\n",
              "      <td>Afghanistan</td>\n",
              "      <td>2003</td>\n",
              "      <td>14.738506</td>\n",
              "      <td>9.5</td>\n",
              "      <td>8.09</td>\n",
              "      <td>25970000.0</td>\n",
              "      <td>36.66</td>\n",
              "      <td>0.31</td>\n",
              "      <td>0.0</td>\n",
              "      <td>0.63</td>\n",
              "      <td>...</td>\n",
              "      <td>0</td>\n",
              "      <td>0</td>\n",
              "      <td>0.053666</td>\n",
              "      <td>0.052276</td>\n",
              "      <td>3.628599</td>\n",
              "      <td>0.875469</td>\n",
              "      <td>5.255847</td>\n",
              "      <td>1</td>\n",
              "      <td>3</td>\n",
              "      <td>40.030000</td>\n",
              "    </tr>\n",
              "    <tr>\n",
              "      <th>4</th>\n",
              "      <td>Afghanistan</td>\n",
              "      <td>2004</td>\n",
              "      <td>20.064968</td>\n",
              "      <td>10.9</td>\n",
              "      <td>7.75</td>\n",
              "      <td>0.0</td>\n",
              "      <td>44.24</td>\n",
              "      <td>0.33</td>\n",
              "      <td>0.0</td>\n",
              "      <td>0.56</td>\n",
              "      <td>...</td>\n",
              "      <td>0</td>\n",
              "      <td>0</td>\n",
              "      <td>0.043717</td>\n",
              "      <td>0.042788</td>\n",
              "      <td>3.811982</td>\n",
              "      <td>0.788457</td>\n",
              "      <td>5.358387</td>\n",
              "      <td>1</td>\n",
              "      <td>4</td>\n",
              "      <td>39.576667</td>\n",
              "    </tr>\n",
              "  </tbody>\n",
              "</table>\n",
              "<p>5 rows × 37 columns</p>\n",
              "</div>"
            ],
            "text/plain": [
              "       country  year  elec_access_pct  clean_fuels_access_pct  \\\n",
              "0  Afghanistan  2000         1.613591                     6.2   \n",
              "1  Afghanistan  2001         4.074574                     7.2   \n",
              "2  Afghanistan  2002         9.409158                     8.2   \n",
              "3  Afghanistan  2003        14.738506                     9.5   \n",
              "4  Afghanistan  2004        20.064968                    10.9   \n",
              "\n",
              "   renew_cap_kw_pc  climate_finance_usd  renewables_share_pct  \\\n",
              "0             9.22              20000.0                 44.99   \n",
              "1             8.86             130000.0                 45.60   \n",
              "2             8.47            3950000.0                 37.83   \n",
              "3             8.09           25970000.0                 36.66   \n",
              "4             7.75                  0.0                 44.24   \n",
              "\n",
              "   fossil_elec_twh  nuclear_elec_twh  renew_elec_twh  ...  region_miss  \\\n",
              "0             0.16               0.0            0.31  ...            0   \n",
              "1             0.09               0.0            0.50  ...            0   \n",
              "2             0.13               0.0            0.56  ...            0   \n",
              "3             0.31               0.0            0.63  ...            0   \n",
              "4             0.33               0.0            0.56  ...            0   \n",
              "\n",
              "   subregion_miss  co2_per_capita_t  log_co2_per_capita_t  \\\n",
              "0               0          0.037754              0.037059   \n",
              "1               0          0.035988              0.035356   \n",
              "2               0          0.048180              0.047055   \n",
              "3               0          0.053666              0.052276   \n",
              "4               0          0.043717              0.042788   \n",
              "\n",
              "   log_renewables_share_pct  log_energy_intensity_mj_usd  log_gdp_pc_usd  \\\n",
              "0                  3.828424                     0.970779        5.195324   \n",
              "1                  3.841601                     1.007958        5.195324   \n",
              "2                  3.659193                     0.875469        5.195324   \n",
              "3                  3.628599                     0.875469        5.255847   \n",
              "4                  3.811982                     0.788457        5.358387   \n",
              "\n",
              "   above_30_pct  year_offset  renewables_3yr_avg  \n",
              "0             1            0           44.990000  \n",
              "1             1            1           45.295000  \n",
              "2             1            2           42.806667  \n",
              "3             1            3           40.030000  \n",
              "4             1            4           39.576667  \n",
              "\n",
              "[5 rows x 37 columns]"
            ]
          },
          "execution_count": 1,
          "metadata": {},
          "output_type": "execute_result"
        }
      ],
      "source": [
        "# import libraries\n",
        "import numpy as np\n",
        "import pandas as pd \n",
        "import seaborn as sns \n",
        "import plotly.express as px \n",
        "import matplotlib.pyplot as plt \n",
        "import statsmodels.api as sm\n",
        "import scipy.stats as stats\n",
        "\n",
        "# load data\n",
        "df = pd.read_csv('../data/cleaned/enhanced_energy_features.csv')\n",
        "df.head()"
      ]
    },
    {
      "cell_type": "code",
      "execution_count": 25,
      "metadata": {},
      "outputs": [
        {
          "name": "stdout",
          "output_type": "stream",
          "text": [
            "region     subregion                       countries                                                                                                                                                                                                                                                                                                                                                                                                                                                             \n",
            "Africa      Northern Africa                                                                                                                                                                                                                                                                                                                                                                                                                                      [Algeria, Egypt, Libya, Morocco, Sudan, Tunisia]\n",
            "Africa      Sub-Saharan Africa             [Angola, Benin, Botswana, Burkina Faso, Burundi, Cameroon, Central African Republic, Chad, Comoros, Congo, Djibouti, Equatorial Guinea, Eritrea, Eswatini, Ethiopia, Gabon, Gambia, Ghana, Guinea, Guinea-Bissau, Kenya, Lesotho, Liberia, Madagascar, Malawi, Mali, Mauritania, Mauritius, Mozambique, Namibia, Niger, Nigeria, Rwanda, Sao Tome and Principe, Senegal, Seychelles, Sierra Leone, Somalia, South Africa, South Sudan, Togo, Uganda, Zambia, Zimbabwe]\n",
            "Americas   Latin America and the Caribbean                                           [Antigua and Barbuda, Argentina, Aruba, Bahamas, Barbados, Belize, Brazil, Cayman Islands, Chile, Colombia, Costa Rica, Cuba, Dominica, Dominican Republic, Ecuador, El Salvador, French Guiana, Grenada, Guatemala, Guyana, Haiti, Honduras, Jamaica, Mexico, Nicaragua, Panama, Paraguay, Peru, Puerto Rico, Saint Kitts and Nevis, Saint Lucia, Saint Vincent and the Grenadines, Suriname, Trinidad and Tobago, Uruguay]\n",
            "Americas    Northern America                                                                                                                                                                                                                                                                                                                                                                                                                                                                    [Bermuda, Canada]\n",
            "Asia        Central Asia                                                                                                                                                                                                                                                                                                                                                                                                                           [Kazakhstan, Kyrgyzstan, Tajikistan, Turkmenistan, Uzbekistan]\n",
            "Asia        Eastern Asia                                                                                                                                                                                                                                                                                                                                                                                                                                                                 [China, Japan, Mongolia]\n",
            "Asia        South-eastern Asia                                                                                                                                                                                                                                                                                                                                                                                                         [Cambodia, Indonesia, Malaysia, Myanmar, Philippines, Singapore, Thailand]\n",
            "Asia        Southern Asia                                                                                                                                                                                                                                                                                                                                                                                                          [Afghanistan, Bangladesh, Bhutan, India, Maldives, Nepal, Pakistan, Sri Lanka]\n",
            "Asia        Western Asia                                                                                                                                                                                                                                                                                                                                           [Armenia, Azerbaijan, Bahrain, Cyprus, Georgia, Iraq, Israel, Jordan, Kuwait, Lebanon, Oman, Qatar, Saudi Arabia, United Arab Emirates, Yemen]\n",
            "Europe      Eastern Europe                                                                                                                                                                                                                                                                                                                                                                                                              [Belarus, Bulgaria, Czechia, Hungary, Poland, Romania, Slovakia, Ukraine]\n",
            "Europe      Northern Europe                                                                                                                                                                                                                                                                                                                                                                                                      [Denmark, Estonia, Finland, Iceland, Ireland, Latvia, Lithuania, Norway, Sweden]\n",
            "Europe      Southern Europe                                                                                                                                                                                                                                                                                                                                                      [Albania, Bosnia and Herzegovina, Croatia, Greece, Italy, Malta, Montenegro, North Macedonia, Portugal, Serbia, Slovenia, Spain]\n",
            "Europe      Western Europe                                                                                                                                                                                                                                                                                                                                                                                                                           [Austria, Belgium, France, Germany, Luxembourg, Switzerland]\n",
            "Oceania     Australia and New Zealand                                                                                                                                                                                                                                                                                                                                                                                                                                                    [Australia, New Zealand]\n",
            "Oceania     Melanesia                                                                                                                                                                                                                                                                                                                                                                                                                           [Fiji, New Caledonia, Papua New Guinea, Solomon Islands, Vanuatu]\n",
            "Oceania     Micronesia                                                                                                                                                                                                                                                                                                                                                                                                                                                                          [Kiribati, Nauru]\n",
            "Oceania     Polynesia                                                                                                                                                                                                                                                                                                                                                                                                                                                                      [Samoa, Tonga, Tuvalu]\n"
          ]
        }
      ],
      "source": [
        "# Group countries by region and subregion\n",
        "\n",
        "import pandas as pd\n",
        "\n",
        "# Load dataset\n",
        "df = pd.read_csv(\"../data/cleaned/enhanced_energy_features.csv\")\n",
        "\n",
        "# Filter relevant columns and drop missing values\n",
        "df_filtered = df[['region', 'subregion', 'country']].dropna().drop_duplicates()\n",
        "\n",
        "# Group by region and subregion\n",
        "grouped = (\n",
        "    df_filtered\n",
        "    .groupby(['region', 'subregion'])['country']\n",
        "    .unique()\n",
        "    .reset_index()\n",
        "    .rename(columns={'country': 'countries'})\n",
        "    .sort_values(by=['region', 'subregion'])\n",
        ")\n",
        "\n",
        "# Left-justify region/subregion and format output\n",
        "pd.set_option('display.max_colwidth', None)  # prevent column truncation\n",
        "pd.set_option('display.colheader_justify', 'left')  # left-align headers\n",
        "grouped['region'] = grouped['region'].str.ljust(10)\n",
        "grouped['subregion'] = grouped['subregion'].str.ljust(30)\n",
        "\n",
        "# Print clean table\n",
        "print(grouped.to_string(index=False))\n"
      ]
    },
    {
      "cell_type": "code",
      "execution_count": 1,
      "metadata": {},
      "outputs": [
        {
          "ename": "ModuleNotFoundError",
          "evalue": "No module named 'tabulate'",
          "output_type": "error",
          "traceback": [
            "\u001b[31m---------------------------------------------------------------------------\u001b[39m",
            "\u001b[31mModuleNotFoundError\u001b[39m                       Traceback (most recent call last)",
            "\u001b[36mCell\u001b[39m\u001b[36m \u001b[39m\u001b[32mIn[1]\u001b[39m\u001b[32m, line 4\u001b[39m\n\u001b[32m      1\u001b[39m \u001b[38;5;66;03m# Group countries by region and subregion:\u001b[39;00m\n\u001b[32m      3\u001b[39m \u001b[38;5;28;01mimport\u001b[39;00m\u001b[38;5;250m \u001b[39m\u001b[34;01mpandas\u001b[39;00m\u001b[38;5;250m \u001b[39m\u001b[38;5;28;01mas\u001b[39;00m\u001b[38;5;250m \u001b[39m\u001b[34;01mpd\u001b[39;00m\n\u001b[32m----> \u001b[39m\u001b[32m4\u001b[39m \u001b[38;5;28;01mfrom\u001b[39;00m\u001b[38;5;250m \u001b[39m\u001b[34;01mtabulate\u001b[39;00m\u001b[38;5;250m \u001b[39m\u001b[38;5;28;01mimport\u001b[39;00m tabulate\n\u001b[32m      6\u001b[39m \u001b[38;5;66;03m# Load and clean data\u001b[39;00m\n\u001b[32m      7\u001b[39m df = pd.read_csv(\u001b[33m\"\u001b[39m\u001b[33m../data/cleaned/enhanced_energy_features.csv\u001b[39m\u001b[33m\"\u001b[39m)\n",
            "\u001b[31mModuleNotFoundError\u001b[39m: No module named 'tabulate'"
          ]
        }
      ],
      "source": [
        "# Group countries by region and subregion:\n",
        "\n",
        "import pandas as pd\n",
        "from tabulate import tabulate\n",
        "\n",
        "# Load and clean data\n",
        "df = pd.read_csv(\"../data/cleaned/enhanced_energy_features.csv\")\n",
        "df_filtered = df[['region', 'subregion', 'country']].dropna()\n",
        "df_filtered = df_filtered.drop_duplicates()\n",
        "\n",
        "# Group by Region and Subregion\n",
        "grouped = (\n",
        "    df_filtered\n",
        "    .groupby(['region', 'subregion'])['country']\n",
        "    .apply(list)\n",
        "    .reset_index()\n",
        ")\n",
        "\n",
        "# Format countries as left-justified, multiline string\n",
        "grouped['country_list'] = grouped['country'].apply(lambda x: \", \".join(x))\n",
        "\n",
        "# Create pretty table with left-justified columns\n",
        "table_data = [\n",
        "    [region.ljust(10), subregion.ljust(35), countries]\n",
        "    for region, subregion, countries in zip(grouped['region'], grouped['subregion'], grouped['country_list'])\n",
        "]\n",
        "\n",
        "# Display using tabulate\n",
        "headers = [\"Region\", \"Subregion\", \"Countries\"]\n",
        "print(tabulate(table_data, headers=headers, tablefmt=\"grid\", stralign=\"left\"))\n"
      ]
    },
    {
      "cell_type": "code",
      "execution_count": 24,
      "metadata": {},
      "outputs": [
        {
          "data": {
            "application/vnd.plotly.v1+json": {
              "config": {
                "plotlyServerURL": "https://plot.ly"
              },
              "data": [
                {
                  "link": {
                    "color": "rgba(0, 128, 0, 0.3)",
                    "source": [
                      0,
                      1,
                      2,
                      3,
                      4,
                      5,
                      6,
                      7,
                      8,
                      9,
                      10,
                      11,
                      12,
                      13,
                      14,
                      15,
                      16
                    ],
                    "target": [
                      17,
                      17,
                      17,
                      17,
                      17,
                      18,
                      17,
                      17,
                      17,
                      18,
                      17,
                      18,
                      18,
                      17,
                      19,
                      17,
                      17
                    ],
                    "value": [
                      1,
                      1,
                      1,
                      1,
                      1,
                      1,
                      1,
                      1,
                      1,
                      1,
                      1,
                      1,
                      1,
                      1,
                      1,
                      1,
                      1
                    ]
                  },
                  "node": {
                    "color": "lightgreen",
                    "label": [
                      "Australia and New Zealand",
                      "Central Asia",
                      "Eastern Asia",
                      "Eastern Europe",
                      "Latin America and the Caribbean",
                      "Melanesia",
                      "Micronesia",
                      "Northern Africa",
                      "Northern America",
                      "Northern Europe",
                      "Polynesia",
                      "South-eastern Asia",
                      "Southern Asia",
                      "Southern Europe",
                      "Sub-Saharan Africa",
                      "Western Asia",
                      "Western Europe",
                      "Low Renewables",
                      "Moderate Renewables",
                      "High Renewables"
                    ],
                    "line": {
                      "color": "black",
                      "width": 0.5
                    },
                    "pad": 20,
                    "thickness": 20
                  },
                  "type": "sankey"
                }
              ],
              "layout": {
                "font": {
                  "color": "black",
                  "family": "Arial",
                  "size": 14
                },
                "margin": {
                  "b": 50,
                  "l": 100,
                  "r": 100,
                  "t": 50
                },
                "template": {
                  "data": {
                    "bar": [
                      {
                        "error_x": {
                          "color": "#2a3f5f"
                        },
                        "error_y": {
                          "color": "#2a3f5f"
                        },
                        "marker": {
                          "line": {
                            "color": "#E5ECF6",
                            "width": 0.5
                          },
                          "pattern": {
                            "fillmode": "overlay",
                            "size": 10,
                            "solidity": 0.2
                          }
                        },
                        "type": "bar"
                      }
                    ],
                    "barpolar": [
                      {
                        "marker": {
                          "line": {
                            "color": "#E5ECF6",
                            "width": 0.5
                          },
                          "pattern": {
                            "fillmode": "overlay",
                            "size": 10,
                            "solidity": 0.2
                          }
                        },
                        "type": "barpolar"
                      }
                    ],
                    "carpet": [
                      {
                        "aaxis": {
                          "endlinecolor": "#2a3f5f",
                          "gridcolor": "white",
                          "linecolor": "white",
                          "minorgridcolor": "white",
                          "startlinecolor": "#2a3f5f"
                        },
                        "baxis": {
                          "endlinecolor": "#2a3f5f",
                          "gridcolor": "white",
                          "linecolor": "white",
                          "minorgridcolor": "white",
                          "startlinecolor": "#2a3f5f"
                        },
                        "type": "carpet"
                      }
                    ],
                    "choropleth": [
                      {
                        "colorbar": {
                          "outlinewidth": 0,
                          "ticks": ""
                        },
                        "type": "choropleth"
                      }
                    ],
                    "contour": [
                      {
                        "colorbar": {
                          "outlinewidth": 0,
                          "ticks": ""
                        },
                        "colorscale": [
                          [
                            0,
                            "#0d0887"
                          ],
                          [
                            0.1111111111111111,
                            "#46039f"
                          ],
                          [
                            0.2222222222222222,
                            "#7201a8"
                          ],
                          [
                            0.3333333333333333,
                            "#9c179e"
                          ],
                          [
                            0.4444444444444444,
                            "#bd3786"
                          ],
                          [
                            0.5555555555555556,
                            "#d8576b"
                          ],
                          [
                            0.6666666666666666,
                            "#ed7953"
                          ],
                          [
                            0.7777777777777778,
                            "#fb9f3a"
                          ],
                          [
                            0.8888888888888888,
                            "#fdca26"
                          ],
                          [
                            1,
                            "#f0f921"
                          ]
                        ],
                        "type": "contour"
                      }
                    ],
                    "contourcarpet": [
                      {
                        "colorbar": {
                          "outlinewidth": 0,
                          "ticks": ""
                        },
                        "type": "contourcarpet"
                      }
                    ],
                    "heatmap": [
                      {
                        "colorbar": {
                          "outlinewidth": 0,
                          "ticks": ""
                        },
                        "colorscale": [
                          [
                            0,
                            "#0d0887"
                          ],
                          [
                            0.1111111111111111,
                            "#46039f"
                          ],
                          [
                            0.2222222222222222,
                            "#7201a8"
                          ],
                          [
                            0.3333333333333333,
                            "#9c179e"
                          ],
                          [
                            0.4444444444444444,
                            "#bd3786"
                          ],
                          [
                            0.5555555555555556,
                            "#d8576b"
                          ],
                          [
                            0.6666666666666666,
                            "#ed7953"
                          ],
                          [
                            0.7777777777777778,
                            "#fb9f3a"
                          ],
                          [
                            0.8888888888888888,
                            "#fdca26"
                          ],
                          [
                            1,
                            "#f0f921"
                          ]
                        ],
                        "type": "heatmap"
                      }
                    ],
                    "heatmapgl": [
                      {
                        "colorbar": {
                          "outlinewidth": 0,
                          "ticks": ""
                        },
                        "colorscale": [
                          [
                            0,
                            "#0d0887"
                          ],
                          [
                            0.1111111111111111,
                            "#46039f"
                          ],
                          [
                            0.2222222222222222,
                            "#7201a8"
                          ],
                          [
                            0.3333333333333333,
                            "#9c179e"
                          ],
                          [
                            0.4444444444444444,
                            "#bd3786"
                          ],
                          [
                            0.5555555555555556,
                            "#d8576b"
                          ],
                          [
                            0.6666666666666666,
                            "#ed7953"
                          ],
                          [
                            0.7777777777777778,
                            "#fb9f3a"
                          ],
                          [
                            0.8888888888888888,
                            "#fdca26"
                          ],
                          [
                            1,
                            "#f0f921"
                          ]
                        ],
                        "type": "heatmapgl"
                      }
                    ],
                    "histogram": [
                      {
                        "marker": {
                          "pattern": {
                            "fillmode": "overlay",
                            "size": 10,
                            "solidity": 0.2
                          }
                        },
                        "type": "histogram"
                      }
                    ],
                    "histogram2d": [
                      {
                        "colorbar": {
                          "outlinewidth": 0,
                          "ticks": ""
                        },
                        "colorscale": [
                          [
                            0,
                            "#0d0887"
                          ],
                          [
                            0.1111111111111111,
                            "#46039f"
                          ],
                          [
                            0.2222222222222222,
                            "#7201a8"
                          ],
                          [
                            0.3333333333333333,
                            "#9c179e"
                          ],
                          [
                            0.4444444444444444,
                            "#bd3786"
                          ],
                          [
                            0.5555555555555556,
                            "#d8576b"
                          ],
                          [
                            0.6666666666666666,
                            "#ed7953"
                          ],
                          [
                            0.7777777777777778,
                            "#fb9f3a"
                          ],
                          [
                            0.8888888888888888,
                            "#fdca26"
                          ],
                          [
                            1,
                            "#f0f921"
                          ]
                        ],
                        "type": "histogram2d"
                      }
                    ],
                    "histogram2dcontour": [
                      {
                        "colorbar": {
                          "outlinewidth": 0,
                          "ticks": ""
                        },
                        "colorscale": [
                          [
                            0,
                            "#0d0887"
                          ],
                          [
                            0.1111111111111111,
                            "#46039f"
                          ],
                          [
                            0.2222222222222222,
                            "#7201a8"
                          ],
                          [
                            0.3333333333333333,
                            "#9c179e"
                          ],
                          [
                            0.4444444444444444,
                            "#bd3786"
                          ],
                          [
                            0.5555555555555556,
                            "#d8576b"
                          ],
                          [
                            0.6666666666666666,
                            "#ed7953"
                          ],
                          [
                            0.7777777777777778,
                            "#fb9f3a"
                          ],
                          [
                            0.8888888888888888,
                            "#fdca26"
                          ],
                          [
                            1,
                            "#f0f921"
                          ]
                        ],
                        "type": "histogram2dcontour"
                      }
                    ],
                    "mesh3d": [
                      {
                        "colorbar": {
                          "outlinewidth": 0,
                          "ticks": ""
                        },
                        "type": "mesh3d"
                      }
                    ],
                    "parcoords": [
                      {
                        "line": {
                          "colorbar": {
                            "outlinewidth": 0,
                            "ticks": ""
                          }
                        },
                        "type": "parcoords"
                      }
                    ],
                    "pie": [
                      {
                        "automargin": true,
                        "type": "pie"
                      }
                    ],
                    "scatter": [
                      {
                        "fillpattern": {
                          "fillmode": "overlay",
                          "size": 10,
                          "solidity": 0.2
                        },
                        "type": "scatter"
                      }
                    ],
                    "scatter3d": [
                      {
                        "line": {
                          "colorbar": {
                            "outlinewidth": 0,
                            "ticks": ""
                          }
                        },
                        "marker": {
                          "colorbar": {
                            "outlinewidth": 0,
                            "ticks": ""
                          }
                        },
                        "type": "scatter3d"
                      }
                    ],
                    "scattercarpet": [
                      {
                        "marker": {
                          "colorbar": {
                            "outlinewidth": 0,
                            "ticks": ""
                          }
                        },
                        "type": "scattercarpet"
                      }
                    ],
                    "scattergeo": [
                      {
                        "marker": {
                          "colorbar": {
                            "outlinewidth": 0,
                            "ticks": ""
                          }
                        },
                        "type": "scattergeo"
                      }
                    ],
                    "scattergl": [
                      {
                        "marker": {
                          "colorbar": {
                            "outlinewidth": 0,
                            "ticks": ""
                          }
                        },
                        "type": "scattergl"
                      }
                    ],
                    "scattermapbox": [
                      {
                        "marker": {
                          "colorbar": {
                            "outlinewidth": 0,
                            "ticks": ""
                          }
                        },
                        "type": "scattermapbox"
                      }
                    ],
                    "scatterpolar": [
                      {
                        "marker": {
                          "colorbar": {
                            "outlinewidth": 0,
                            "ticks": ""
                          }
                        },
                        "type": "scatterpolar"
                      }
                    ],
                    "scatterpolargl": [
                      {
                        "marker": {
                          "colorbar": {
                            "outlinewidth": 0,
                            "ticks": ""
                          }
                        },
                        "type": "scatterpolargl"
                      }
                    ],
                    "scatterternary": [
                      {
                        "marker": {
                          "colorbar": {
                            "outlinewidth": 0,
                            "ticks": ""
                          }
                        },
                        "type": "scatterternary"
                      }
                    ],
                    "surface": [
                      {
                        "colorbar": {
                          "outlinewidth": 0,
                          "ticks": ""
                        },
                        "colorscale": [
                          [
                            0,
                            "#0d0887"
                          ],
                          [
                            0.1111111111111111,
                            "#46039f"
                          ],
                          [
                            0.2222222222222222,
                            "#7201a8"
                          ],
                          [
                            0.3333333333333333,
                            "#9c179e"
                          ],
                          [
                            0.4444444444444444,
                            "#bd3786"
                          ],
                          [
                            0.5555555555555556,
                            "#d8576b"
                          ],
                          [
                            0.6666666666666666,
                            "#ed7953"
                          ],
                          [
                            0.7777777777777778,
                            "#fb9f3a"
                          ],
                          [
                            0.8888888888888888,
                            "#fdca26"
                          ],
                          [
                            1,
                            "#f0f921"
                          ]
                        ],
                        "type": "surface"
                      }
                    ],
                    "table": [
                      {
                        "cells": {
                          "fill": {
                            "color": "#EBF0F8"
                          },
                          "line": {
                            "color": "white"
                          }
                        },
                        "header": {
                          "fill": {
                            "color": "#C8D4E3"
                          },
                          "line": {
                            "color": "white"
                          }
                        },
                        "type": "table"
                      }
                    ]
                  },
                  "layout": {
                    "annotationdefaults": {
                      "arrowcolor": "#2a3f5f",
                      "arrowhead": 0,
                      "arrowwidth": 1
                    },
                    "autotypenumbers": "strict",
                    "coloraxis": {
                      "colorbar": {
                        "outlinewidth": 0,
                        "ticks": ""
                      }
                    },
                    "colorscale": {
                      "diverging": [
                        [
                          0,
                          "#8e0152"
                        ],
                        [
                          0.1,
                          "#c51b7d"
                        ],
                        [
                          0.2,
                          "#de77ae"
                        ],
                        [
                          0.3,
                          "#f1b6da"
                        ],
                        [
                          0.4,
                          "#fde0ef"
                        ],
                        [
                          0.5,
                          "#f7f7f7"
                        ],
                        [
                          0.6,
                          "#e6f5d0"
                        ],
                        [
                          0.7,
                          "#b8e186"
                        ],
                        [
                          0.8,
                          "#7fbc41"
                        ],
                        [
                          0.9,
                          "#4d9221"
                        ],
                        [
                          1,
                          "#276419"
                        ]
                      ],
                      "sequential": [
                        [
                          0,
                          "#0d0887"
                        ],
                        [
                          0.1111111111111111,
                          "#46039f"
                        ],
                        [
                          0.2222222222222222,
                          "#7201a8"
                        ],
                        [
                          0.3333333333333333,
                          "#9c179e"
                        ],
                        [
                          0.4444444444444444,
                          "#bd3786"
                        ],
                        [
                          0.5555555555555556,
                          "#d8576b"
                        ],
                        [
                          0.6666666666666666,
                          "#ed7953"
                        ],
                        [
                          0.7777777777777778,
                          "#fb9f3a"
                        ],
                        [
                          0.8888888888888888,
                          "#fdca26"
                        ],
                        [
                          1,
                          "#f0f921"
                        ]
                      ],
                      "sequentialminus": [
                        [
                          0,
                          "#0d0887"
                        ],
                        [
                          0.1111111111111111,
                          "#46039f"
                        ],
                        [
                          0.2222222222222222,
                          "#7201a8"
                        ],
                        [
                          0.3333333333333333,
                          "#9c179e"
                        ],
                        [
                          0.4444444444444444,
                          "#bd3786"
                        ],
                        [
                          0.5555555555555556,
                          "#d8576b"
                        ],
                        [
                          0.6666666666666666,
                          "#ed7953"
                        ],
                        [
                          0.7777777777777778,
                          "#fb9f3a"
                        ],
                        [
                          0.8888888888888888,
                          "#fdca26"
                        ],
                        [
                          1,
                          "#f0f921"
                        ]
                      ]
                    },
                    "colorway": [
                      "#636efa",
                      "#EF553B",
                      "#00cc96",
                      "#ab63fa",
                      "#FFA15A",
                      "#19d3f3",
                      "#FF6692",
                      "#B6E880",
                      "#FF97FF",
                      "#FECB52"
                    ],
                    "font": {
                      "color": "#2a3f5f"
                    },
                    "geo": {
                      "bgcolor": "white",
                      "lakecolor": "white",
                      "landcolor": "#E5ECF6",
                      "showlakes": true,
                      "showland": true,
                      "subunitcolor": "white"
                    },
                    "hoverlabel": {
                      "align": "left"
                    },
                    "hovermode": "closest",
                    "mapbox": {
                      "style": "light"
                    },
                    "paper_bgcolor": "white",
                    "plot_bgcolor": "#E5ECF6",
                    "polar": {
                      "angularaxis": {
                        "gridcolor": "white",
                        "linecolor": "white",
                        "ticks": ""
                      },
                      "bgcolor": "#E5ECF6",
                      "radialaxis": {
                        "gridcolor": "white",
                        "linecolor": "white",
                        "ticks": ""
                      }
                    },
                    "scene": {
                      "xaxis": {
                        "backgroundcolor": "#E5ECF6",
                        "gridcolor": "white",
                        "gridwidth": 2,
                        "linecolor": "white",
                        "showbackground": true,
                        "ticks": "",
                        "zerolinecolor": "white"
                      },
                      "yaxis": {
                        "backgroundcolor": "#E5ECF6",
                        "gridcolor": "white",
                        "gridwidth": 2,
                        "linecolor": "white",
                        "showbackground": true,
                        "ticks": "",
                        "zerolinecolor": "white"
                      },
                      "zaxis": {
                        "backgroundcolor": "#E5ECF6",
                        "gridcolor": "white",
                        "gridwidth": 2,
                        "linecolor": "white",
                        "showbackground": true,
                        "ticks": "",
                        "zerolinecolor": "white"
                      }
                    },
                    "shapedefaults": {
                      "line": {
                        "color": "#2a3f5f"
                      }
                    },
                    "ternary": {
                      "aaxis": {
                        "gridcolor": "white",
                        "linecolor": "white",
                        "ticks": ""
                      },
                      "baxis": {
                        "gridcolor": "white",
                        "linecolor": "white",
                        "ticks": ""
                      },
                      "bgcolor": "#E5ECF6",
                      "caxis": {
                        "gridcolor": "white",
                        "linecolor": "white",
                        "ticks": ""
                      }
                    },
                    "title": {
                      "x": 0.05
                    },
                    "xaxis": {
                      "automargin": true,
                      "gridcolor": "white",
                      "linecolor": "white",
                      "ticks": "",
                      "title": {
                        "standoff": 15
                      },
                      "zerolinecolor": "white",
                      "zerolinewidth": 2
                    },
                    "yaxis": {
                      "automargin": true,
                      "gridcolor": "white",
                      "linecolor": "white",
                      "ticks": "",
                      "title": {
                        "standoff": 15
                      },
                      "zerolinecolor": "white",
                      "zerolinewidth": 2
                    }
                  }
                },
                "title": {
                  "text": "7. Energy Mix Transition by Subregion (2000 - 2020)"
                }
              }
            }
          },
          "metadata": {},
          "output_type": "display_data"
        }
      ],
      "source": [
        "# Energy Mix Transition by Subregion (Sankey Plot)\n",
        "\n",
        "import pandas as pd\n",
        "import plotly.graph_objects as go\n",
        "\n",
        "# Load data\n",
        "df = pd.read_csv('../data/cleaned/enhanced_energy_features.csv')  \n",
        "\n",
        "# Step 1: Aggregate average renewables share by subregion\n",
        "df_subregion = df[['subregion', 'renewables_share_pct']].dropna()\n",
        "avg_renew = df_subregion.groupby('subregion')['renewables_share_pct'].mean().reset_index()\n",
        "\n",
        "# Step 2: Categorise by level of renewable energy share\n",
        "def categorize(share):\n",
        "    if share >= 50:\n",
        "        return 'High Renewables'\n",
        "    elif share >= 30:\n",
        "        return 'Moderate Renewables'\n",
        "    else:\n",
        "        return 'Low Renewables'\n",
        "\n",
        "avg_renew['category'] = avg_renew['renewables_share_pct'].apply(categorize)\n",
        "\n",
        "# Step 3: Prepare for Sankey\n",
        "sankey_df = avg_renew[['subregion', 'category']]\n",
        "sankey_df['count'] = 1\n",
        "\n",
        "labels = list(sankey_df['subregion'].unique()) + list(sankey_df['category'].unique())\n",
        "label_to_index = {label: i for i, label in enumerate(labels)}\n",
        "\n",
        "sources = sankey_df['subregion'].map(label_to_index).tolist()\n",
        "targets = sankey_df['category'].map(label_to_index).tolist()\n",
        "values = sankey_df['count'].tolist()\n",
        "\n",
        "# Step 4: Sankey Diagram\n",
        "fig = go.Figure(data=[go.Sankey(\n",
        "    node=dict(\n",
        "        pad=20,\n",
        "        thickness=20,\n",
        "        line=dict(color=\"black\", width=0.5),\n",
        "        label=labels,\n",
        "        color=\"lightgreen\"\n",
        "    ),\n",
        "    link=dict(\n",
        "        source=sources,\n",
        "        target=targets,\n",
        "        value=values,\n",
        "        color=\"rgba(0, 128, 0, 0.3)\"\n",
        "    )\n",
        ")])\n",
        "\n",
        "fig.update_layout(\n",
        "    title_text=\"7. Energy Mix Transition by Subregion (2000 - 2020)\",\n",
        "    font=dict(size=14, color=\"black\", family=\"Arial\"),\n",
        "    margin=dict(l=100, r=100, t=50, b=50)\n",
        ")\n",
        "\n",
        "fig.show()"
      ]
    },
    {
      "cell_type": "code",
      "execution_count": 5,
      "metadata": {},
      "outputs": [
        {
          "data": {
            "application/vnd.plotly.v1+json": {
              "config": {
                "plotlyServerURL": "https://plot.ly"
              },
              "data": [
                {
                  "link": {
                    "color": "rgba(0, 100, 200, 0.3)",
                    "source": [
                      0,
                      1,
                      2,
                      3,
                      4
                    ],
                    "target": [
                      5,
                      6,
                      6,
                      6,
                      6
                    ],
                    "value": [
                      1,
                      1,
                      1,
                      1,
                      1
                    ]
                  },
                  "node": {
                    "color": "lightblue",
                    "label": [
                      "Africa",
                      "Americas",
                      "Asia",
                      "Europe",
                      "Oceania",
                      "High Renewables",
                      "Low Renewables"
                    ],
                    "line": {
                      "color": "black",
                      "width": 0.5
                    },
                    "pad": 20,
                    "thickness": 20
                  },
                  "type": "sankey"
                }
              ],
              "layout": {
                "font": {
                  "color": "black",
                  "family": "Arial",
                  "size": 14
                },
                "margin": {
                  "b": 50,
                  "l": 100,
                  "r": 100,
                  "t": 50
                },
                "template": {
                  "data": {
                    "bar": [
                      {
                        "error_x": {
                          "color": "#2a3f5f"
                        },
                        "error_y": {
                          "color": "#2a3f5f"
                        },
                        "marker": {
                          "line": {
                            "color": "#E5ECF6",
                            "width": 0.5
                          },
                          "pattern": {
                            "fillmode": "overlay",
                            "size": 10,
                            "solidity": 0.2
                          }
                        },
                        "type": "bar"
                      }
                    ],
                    "barpolar": [
                      {
                        "marker": {
                          "line": {
                            "color": "#E5ECF6",
                            "width": 0.5
                          },
                          "pattern": {
                            "fillmode": "overlay",
                            "size": 10,
                            "solidity": 0.2
                          }
                        },
                        "type": "barpolar"
                      }
                    ],
                    "carpet": [
                      {
                        "aaxis": {
                          "endlinecolor": "#2a3f5f",
                          "gridcolor": "white",
                          "linecolor": "white",
                          "minorgridcolor": "white",
                          "startlinecolor": "#2a3f5f"
                        },
                        "baxis": {
                          "endlinecolor": "#2a3f5f",
                          "gridcolor": "white",
                          "linecolor": "white",
                          "minorgridcolor": "white",
                          "startlinecolor": "#2a3f5f"
                        },
                        "type": "carpet"
                      }
                    ],
                    "choropleth": [
                      {
                        "colorbar": {
                          "outlinewidth": 0,
                          "ticks": ""
                        },
                        "type": "choropleth"
                      }
                    ],
                    "contour": [
                      {
                        "colorbar": {
                          "outlinewidth": 0,
                          "ticks": ""
                        },
                        "colorscale": [
                          [
                            0,
                            "#0d0887"
                          ],
                          [
                            0.1111111111111111,
                            "#46039f"
                          ],
                          [
                            0.2222222222222222,
                            "#7201a8"
                          ],
                          [
                            0.3333333333333333,
                            "#9c179e"
                          ],
                          [
                            0.4444444444444444,
                            "#bd3786"
                          ],
                          [
                            0.5555555555555556,
                            "#d8576b"
                          ],
                          [
                            0.6666666666666666,
                            "#ed7953"
                          ],
                          [
                            0.7777777777777778,
                            "#fb9f3a"
                          ],
                          [
                            0.8888888888888888,
                            "#fdca26"
                          ],
                          [
                            1,
                            "#f0f921"
                          ]
                        ],
                        "type": "contour"
                      }
                    ],
                    "contourcarpet": [
                      {
                        "colorbar": {
                          "outlinewidth": 0,
                          "ticks": ""
                        },
                        "type": "contourcarpet"
                      }
                    ],
                    "heatmap": [
                      {
                        "colorbar": {
                          "outlinewidth": 0,
                          "ticks": ""
                        },
                        "colorscale": [
                          [
                            0,
                            "#0d0887"
                          ],
                          [
                            0.1111111111111111,
                            "#46039f"
                          ],
                          [
                            0.2222222222222222,
                            "#7201a8"
                          ],
                          [
                            0.3333333333333333,
                            "#9c179e"
                          ],
                          [
                            0.4444444444444444,
                            "#bd3786"
                          ],
                          [
                            0.5555555555555556,
                            "#d8576b"
                          ],
                          [
                            0.6666666666666666,
                            "#ed7953"
                          ],
                          [
                            0.7777777777777778,
                            "#fb9f3a"
                          ],
                          [
                            0.8888888888888888,
                            "#fdca26"
                          ],
                          [
                            1,
                            "#f0f921"
                          ]
                        ],
                        "type": "heatmap"
                      }
                    ],
                    "heatmapgl": [
                      {
                        "colorbar": {
                          "outlinewidth": 0,
                          "ticks": ""
                        },
                        "colorscale": [
                          [
                            0,
                            "#0d0887"
                          ],
                          [
                            0.1111111111111111,
                            "#46039f"
                          ],
                          [
                            0.2222222222222222,
                            "#7201a8"
                          ],
                          [
                            0.3333333333333333,
                            "#9c179e"
                          ],
                          [
                            0.4444444444444444,
                            "#bd3786"
                          ],
                          [
                            0.5555555555555556,
                            "#d8576b"
                          ],
                          [
                            0.6666666666666666,
                            "#ed7953"
                          ],
                          [
                            0.7777777777777778,
                            "#fb9f3a"
                          ],
                          [
                            0.8888888888888888,
                            "#fdca26"
                          ],
                          [
                            1,
                            "#f0f921"
                          ]
                        ],
                        "type": "heatmapgl"
                      }
                    ],
                    "histogram": [
                      {
                        "marker": {
                          "pattern": {
                            "fillmode": "overlay",
                            "size": 10,
                            "solidity": 0.2
                          }
                        },
                        "type": "histogram"
                      }
                    ],
                    "histogram2d": [
                      {
                        "colorbar": {
                          "outlinewidth": 0,
                          "ticks": ""
                        },
                        "colorscale": [
                          [
                            0,
                            "#0d0887"
                          ],
                          [
                            0.1111111111111111,
                            "#46039f"
                          ],
                          [
                            0.2222222222222222,
                            "#7201a8"
                          ],
                          [
                            0.3333333333333333,
                            "#9c179e"
                          ],
                          [
                            0.4444444444444444,
                            "#bd3786"
                          ],
                          [
                            0.5555555555555556,
                            "#d8576b"
                          ],
                          [
                            0.6666666666666666,
                            "#ed7953"
                          ],
                          [
                            0.7777777777777778,
                            "#fb9f3a"
                          ],
                          [
                            0.8888888888888888,
                            "#fdca26"
                          ],
                          [
                            1,
                            "#f0f921"
                          ]
                        ],
                        "type": "histogram2d"
                      }
                    ],
                    "histogram2dcontour": [
                      {
                        "colorbar": {
                          "outlinewidth": 0,
                          "ticks": ""
                        },
                        "colorscale": [
                          [
                            0,
                            "#0d0887"
                          ],
                          [
                            0.1111111111111111,
                            "#46039f"
                          ],
                          [
                            0.2222222222222222,
                            "#7201a8"
                          ],
                          [
                            0.3333333333333333,
                            "#9c179e"
                          ],
                          [
                            0.4444444444444444,
                            "#bd3786"
                          ],
                          [
                            0.5555555555555556,
                            "#d8576b"
                          ],
                          [
                            0.6666666666666666,
                            "#ed7953"
                          ],
                          [
                            0.7777777777777778,
                            "#fb9f3a"
                          ],
                          [
                            0.8888888888888888,
                            "#fdca26"
                          ],
                          [
                            1,
                            "#f0f921"
                          ]
                        ],
                        "type": "histogram2dcontour"
                      }
                    ],
                    "mesh3d": [
                      {
                        "colorbar": {
                          "outlinewidth": 0,
                          "ticks": ""
                        },
                        "type": "mesh3d"
                      }
                    ],
                    "parcoords": [
                      {
                        "line": {
                          "colorbar": {
                            "outlinewidth": 0,
                            "ticks": ""
                          }
                        },
                        "type": "parcoords"
                      }
                    ],
                    "pie": [
                      {
                        "automargin": true,
                        "type": "pie"
                      }
                    ],
                    "scatter": [
                      {
                        "fillpattern": {
                          "fillmode": "overlay",
                          "size": 10,
                          "solidity": 0.2
                        },
                        "type": "scatter"
                      }
                    ],
                    "scatter3d": [
                      {
                        "line": {
                          "colorbar": {
                            "outlinewidth": 0,
                            "ticks": ""
                          }
                        },
                        "marker": {
                          "colorbar": {
                            "outlinewidth": 0,
                            "ticks": ""
                          }
                        },
                        "type": "scatter3d"
                      }
                    ],
                    "scattercarpet": [
                      {
                        "marker": {
                          "colorbar": {
                            "outlinewidth": 0,
                            "ticks": ""
                          }
                        },
                        "type": "scattercarpet"
                      }
                    ],
                    "scattergeo": [
                      {
                        "marker": {
                          "colorbar": {
                            "outlinewidth": 0,
                            "ticks": ""
                          }
                        },
                        "type": "scattergeo"
                      }
                    ],
                    "scattergl": [
                      {
                        "marker": {
                          "colorbar": {
                            "outlinewidth": 0,
                            "ticks": ""
                          }
                        },
                        "type": "scattergl"
                      }
                    ],
                    "scattermapbox": [
                      {
                        "marker": {
                          "colorbar": {
                            "outlinewidth": 0,
                            "ticks": ""
                          }
                        },
                        "type": "scattermapbox"
                      }
                    ],
                    "scatterpolar": [
                      {
                        "marker": {
                          "colorbar": {
                            "outlinewidth": 0,
                            "ticks": ""
                          }
                        },
                        "type": "scatterpolar"
                      }
                    ],
                    "scatterpolargl": [
                      {
                        "marker": {
                          "colorbar": {
                            "outlinewidth": 0,
                            "ticks": ""
                          }
                        },
                        "type": "scatterpolargl"
                      }
                    ],
                    "scatterternary": [
                      {
                        "marker": {
                          "colorbar": {
                            "outlinewidth": 0,
                            "ticks": ""
                          }
                        },
                        "type": "scatterternary"
                      }
                    ],
                    "surface": [
                      {
                        "colorbar": {
                          "outlinewidth": 0,
                          "ticks": ""
                        },
                        "colorscale": [
                          [
                            0,
                            "#0d0887"
                          ],
                          [
                            0.1111111111111111,
                            "#46039f"
                          ],
                          [
                            0.2222222222222222,
                            "#7201a8"
                          ],
                          [
                            0.3333333333333333,
                            "#9c179e"
                          ],
                          [
                            0.4444444444444444,
                            "#bd3786"
                          ],
                          [
                            0.5555555555555556,
                            "#d8576b"
                          ],
                          [
                            0.6666666666666666,
                            "#ed7953"
                          ],
                          [
                            0.7777777777777778,
                            "#fb9f3a"
                          ],
                          [
                            0.8888888888888888,
                            "#fdca26"
                          ],
                          [
                            1,
                            "#f0f921"
                          ]
                        ],
                        "type": "surface"
                      }
                    ],
                    "table": [
                      {
                        "cells": {
                          "fill": {
                            "color": "#EBF0F8"
                          },
                          "line": {
                            "color": "white"
                          }
                        },
                        "header": {
                          "fill": {
                            "color": "#C8D4E3"
                          },
                          "line": {
                            "color": "white"
                          }
                        },
                        "type": "table"
                      }
                    ]
                  },
                  "layout": {
                    "annotationdefaults": {
                      "arrowcolor": "#2a3f5f",
                      "arrowhead": 0,
                      "arrowwidth": 1
                    },
                    "autotypenumbers": "strict",
                    "coloraxis": {
                      "colorbar": {
                        "outlinewidth": 0,
                        "ticks": ""
                      }
                    },
                    "colorscale": {
                      "diverging": [
                        [
                          0,
                          "#8e0152"
                        ],
                        [
                          0.1,
                          "#c51b7d"
                        ],
                        [
                          0.2,
                          "#de77ae"
                        ],
                        [
                          0.3,
                          "#f1b6da"
                        ],
                        [
                          0.4,
                          "#fde0ef"
                        ],
                        [
                          0.5,
                          "#f7f7f7"
                        ],
                        [
                          0.6,
                          "#e6f5d0"
                        ],
                        [
                          0.7,
                          "#b8e186"
                        ],
                        [
                          0.8,
                          "#7fbc41"
                        ],
                        [
                          0.9,
                          "#4d9221"
                        ],
                        [
                          1,
                          "#276419"
                        ]
                      ],
                      "sequential": [
                        [
                          0,
                          "#0d0887"
                        ],
                        [
                          0.1111111111111111,
                          "#46039f"
                        ],
                        [
                          0.2222222222222222,
                          "#7201a8"
                        ],
                        [
                          0.3333333333333333,
                          "#9c179e"
                        ],
                        [
                          0.4444444444444444,
                          "#bd3786"
                        ],
                        [
                          0.5555555555555556,
                          "#d8576b"
                        ],
                        [
                          0.6666666666666666,
                          "#ed7953"
                        ],
                        [
                          0.7777777777777778,
                          "#fb9f3a"
                        ],
                        [
                          0.8888888888888888,
                          "#fdca26"
                        ],
                        [
                          1,
                          "#f0f921"
                        ]
                      ],
                      "sequentialminus": [
                        [
                          0,
                          "#0d0887"
                        ],
                        [
                          0.1111111111111111,
                          "#46039f"
                        ],
                        [
                          0.2222222222222222,
                          "#7201a8"
                        ],
                        [
                          0.3333333333333333,
                          "#9c179e"
                        ],
                        [
                          0.4444444444444444,
                          "#bd3786"
                        ],
                        [
                          0.5555555555555556,
                          "#d8576b"
                        ],
                        [
                          0.6666666666666666,
                          "#ed7953"
                        ],
                        [
                          0.7777777777777778,
                          "#fb9f3a"
                        ],
                        [
                          0.8888888888888888,
                          "#fdca26"
                        ],
                        [
                          1,
                          "#f0f921"
                        ]
                      ]
                    },
                    "colorway": [
                      "#636efa",
                      "#EF553B",
                      "#00cc96",
                      "#ab63fa",
                      "#FFA15A",
                      "#19d3f3",
                      "#FF6692",
                      "#B6E880",
                      "#FF97FF",
                      "#FECB52"
                    ],
                    "font": {
                      "color": "#2a3f5f"
                    },
                    "geo": {
                      "bgcolor": "white",
                      "lakecolor": "white",
                      "landcolor": "#E5ECF6",
                      "showlakes": true,
                      "showland": true,
                      "subunitcolor": "white"
                    },
                    "hoverlabel": {
                      "align": "left"
                    },
                    "hovermode": "closest",
                    "mapbox": {
                      "style": "light"
                    },
                    "paper_bgcolor": "white",
                    "plot_bgcolor": "#E5ECF6",
                    "polar": {
                      "angularaxis": {
                        "gridcolor": "white",
                        "linecolor": "white",
                        "ticks": ""
                      },
                      "bgcolor": "#E5ECF6",
                      "radialaxis": {
                        "gridcolor": "white",
                        "linecolor": "white",
                        "ticks": ""
                      }
                    },
                    "scene": {
                      "xaxis": {
                        "backgroundcolor": "#E5ECF6",
                        "gridcolor": "white",
                        "gridwidth": 2,
                        "linecolor": "white",
                        "showbackground": true,
                        "ticks": "",
                        "zerolinecolor": "white"
                      },
                      "yaxis": {
                        "backgroundcolor": "#E5ECF6",
                        "gridcolor": "white",
                        "gridwidth": 2,
                        "linecolor": "white",
                        "showbackground": true,
                        "ticks": "",
                        "zerolinecolor": "white"
                      },
                      "zaxis": {
                        "backgroundcolor": "#E5ECF6",
                        "gridcolor": "white",
                        "gridwidth": 2,
                        "linecolor": "white",
                        "showbackground": true,
                        "ticks": "",
                        "zerolinecolor": "white"
                      }
                    },
                    "shapedefaults": {
                      "line": {
                        "color": "#2a3f5f"
                      }
                    },
                    "ternary": {
                      "aaxis": {
                        "gridcolor": "white",
                        "linecolor": "white",
                        "ticks": ""
                      },
                      "baxis": {
                        "gridcolor": "white",
                        "linecolor": "white",
                        "ticks": ""
                      },
                      "bgcolor": "#E5ECF6",
                      "caxis": {
                        "gridcolor": "white",
                        "linecolor": "white",
                        "ticks": ""
                      }
                    },
                    "title": {
                      "x": 0.05
                    },
                    "xaxis": {
                      "automargin": true,
                      "gridcolor": "white",
                      "linecolor": "white",
                      "ticks": "",
                      "title": {
                        "standoff": 15
                      },
                      "zerolinecolor": "white",
                      "zerolinewidth": 2
                    },
                    "yaxis": {
                      "automargin": true,
                      "gridcolor": "white",
                      "linecolor": "white",
                      "ticks": "",
                      "title": {
                        "standoff": 15
                      },
                      "zerolinecolor": "white",
                      "zerolinewidth": 2
                    }
                  }
                },
                "title": {
                  "text": "Energy Mix Transition by Region (2000 - 2020)"
                }
              }
            }
          },
          "metadata": {},
          "output_type": "display_data"
        }
      ],
      "source": [
        "# Energy Mix Transition by Region (Sankey Plot)\n",
        "\n",
        "import pandas as pd\n",
        "import plotly.graph_objects as go\n",
        "\n",
        "# Load your data\n",
        "df = pd.read_csv(\"../data/cleaned/enhanced_energy_features.csv\") \n",
        "\n",
        "# Categorization logic\n",
        "def categorize(share):\n",
        "    if share >= 50:\n",
        "        return 'High Renewables'\n",
        "    elif share >= 30:\n",
        "        return 'Moderate Renewables'\n",
        "    else:\n",
        "        return 'Low Renewables'\n",
        "\n",
        "# Average renewables by region\n",
        "df_region = df[['region', 'renewables_share_pct']].dropna()\n",
        "avg_renew = df_region.groupby('region')['renewables_share_pct'].mean().reset_index()\n",
        "avg_renew['category'] = avg_renew['renewables_share_pct'].apply(categorize)\n",
        "\n",
        "# Sankey structure\n",
        "sankey_df = avg_renew[['region', 'category']]\n",
        "sankey_df['count'] = 1\n",
        "\n",
        "labels = list(sankey_df['region'].unique()) + list(sankey_df['category'].unique())\n",
        "label_map = {label: i for i, label in enumerate(labels)}\n",
        "\n",
        "sources = sankey_df['region'].map(label_map).tolist()\n",
        "targets = sankey_df['category'].map(label_map).tolist()\n",
        "values = sankey_df['count'].tolist()\n",
        "\n",
        "# Sankey chart\n",
        "fig = go.Figure(data=[go.Sankey(\n",
        "    node=dict(\n",
        "        pad=20,\n",
        "        thickness=20,\n",
        "        line=dict(color=\"black\", width=0.5),\n",
        "        label=labels,\n",
        "        color=\"lightblue\"\n",
        "    ),\n",
        "    link=dict(\n",
        "        source=sources,\n",
        "        target=targets,\n",
        "        value=values,\n",
        "        color=\"rgba(0, 100, 200, 0.3)\"\n",
        "    )\n",
        ")])\n",
        "\n",
        "fig.update_layout(\n",
        "    title_text=\"Energy Mix Transition by Region (2000 - 2020)\",\n",
        "    font=dict(size=14, color=\"black\", family=\"Arial\"),\n",
        "    margin=dict(l=100, r=100, t=50, b=50)\n",
        ")\n",
        "\n",
        "fig.show()\n"
      ]
    },
    {
      "cell_type": "code",
      "execution_count": null,
      "metadata": {},
      "outputs": [
        {
          "data": {
            "text/plain": [
              "<Figure size 1200x600 with 0 Axes>"
            ]
          },
          "metadata": {},
          "output_type": "display_data"
        },
        {
          "data": {
            "image/png": "[encoded data removed]",
            "text/plain": [
              "<Figure size 1200x600 with 1 Axes>"
            ]
          },
          "metadata": {},
          "output_type": "display_data"
        }
      ],
      "source": [
        "# Create line chart — renewables share over time by region\n",
        "\n",
        "import pandas as pd\n",
        "import matplotlib.pyplot as plt\n",
        "\n",
        "# Step 1: Load data\n",
        "df = pd.read_csv(\"../data/cleaned/enhanced_energy_features.csv\")  # Adjust path as needed\n",
        "\n",
        "# Step 2: Filter relevant columns and drop NaNs\n",
        "df_filtered = df[['year', 'region', 'renewables_share_pct']].dropna()\n",
        "\n",
        "# Ensure year is integer for plotting\n",
        "df_filtered['year'] = df_filtered['year'].astype(int)\n",
        "\n",
        "# Step 3: Calculate average renewables share by region per year\n",
        "df_line = (\n",
        "    df_filtered\n",
        "    .groupby(['year', 'region'])['renewables_share_pct']\n",
        "    .mean()\n",
        "    .reset_index()\n",
        "    .pivot(index='year', columns='region', values='renewables_share_pct')\n",
        ")\n",
        "\n",
        "# Step 4: Plot line chart\n",
        "plt.figure(figsize=(12, 6))\n",
        "df_line.plot(kind='line', marker='o', linewidth=2, figsize=(12, 6))\n",
        "plt.title('Renewables Share Over Time by Region')\n",
        "plt.ylabel('Renewables Share (%)')\n",
        "plt.xlabel('Year')\n",
        "\n",
        "# Force x-axis ticks to be integers\n",
        "plt.xticks(df_line.index, df_line.index.astype(int), rotation=45)\n",
        "\n",
        "# Add legend and grid\n",
        "plt.legend(title='Region', bbox_to_anchor=(1.05, 1), loc='upper left')\n",
        "plt.grid(True)\n",
        "plt.tight_layout()\n",
        "plt.show()\n"
      ]
    },
    {
      "cell_type": "code",
      "execution_count": 19,
      "metadata": {},
      "outputs": [
        {
          "data": {
            "application/vnd.plotly.v1+json": {
              "config": {
                "plotlyServerURL": "https://plot.ly"
              },
              "data": [
                {
                  "hovertemplate": "Subregion=Australia and New Zealand<br>Year=%{x}<br>Renewables Share (%)=%{y}<extra></extra>",
                  "legendgroup": "Australia and New Zealand",
                  "line": {
                    "color": "#636efa",
                    "dash": "solid"
                  },
                  "marker": {
                    "symbol": "circle"
                  },
                  "mode": "lines",
                  "name": "Australia and New Zealand",
                  "orientation": "v",
                  "showlegend": true,
                  "type": "scatter",
                  "x": [
                    2000,
                    2001,
                    2002,
                    2003,
                    2004,
                    2005,
                    2006,
                    2007,
                    2008,
                    2009,
                    2010,
                    2011,
                    2012,
                    2013,
                    2014,
                    2015,
                    2016,
                    2017,
                    2018,
                    2019,
                    2020
                  ],
                  "xaxis": "x",
                  "y": [
                    18.775,
                    17.75,
                    18.86,
                    17.75,
                    18.72,
                    18.085,
                    18.22,
                    18.150000000000002,
                    17.59,
                    18.855,
                    19.92,
                    20.485,
                    19.655,
                    19.785,
                    20.205,
                    20.275,
                    20.625,
                    19.955,
                    20.2,
                    19.89,
                    19.89
                  ],
                  "yaxis": "y"
                },
                {
                  "hovertemplate": "Subregion=Central Asia<br>Year=%{x}<br>Renewables Share (%)=%{y}<extra></extra>",
                  "legendgroup": "Central Asia",
                  "line": {
                    "color": "#EF553B",
                    "dash": "solid"
                  },
                  "marker": {
                    "symbol": "circle"
                  },
                  "mode": "lines",
                  "name": "Central Asia",
                  "orientation": "v",
                  "showlegend": true,
                  "type": "scatter",
                  "x": [
                    2000,
                    2001,
                    2002,
                    2003,
                    2004,
                    2005,
                    2006,
                    2007,
                    2008,
                    2009,
                    2010,
                    2011,
                    2012,
                    2013,
                    2014,
                    2015,
                    2016,
                    2017,
                    2018,
                    2019,
                    2020
                  ],
                  "xaxis": "x",
                  "y": [
                    20.176,
                    20.669999999999998,
                    19.266,
                    19.773999999999997,
                    18.426,
                    19.108,
                    18.478,
                    16.216,
                    15.734,
                    17.59,
                    18.044,
                    17.663999999999998,
                    16.194,
                    16.468,
                    15.056000000000001,
                    14.978,
                    13.362,
                    14.014,
                    13.222,
                    13.953999999999999,
                    13.953999999999999
                  ],
                  "yaxis": "y"
                },
                {
                  "hovertemplate": "Subregion=Eastern Asia<br>Year=%{x}<br>Renewables Share (%)=%{y}<extra></extra>",
                  "legendgroup": "Eastern Asia",
                  "line": {
                    "color": "#00cc96",
                    "dash": "solid"
                  },
                  "marker": {
                    "symbol": "circle"
                  },
                  "mode": "lines",
                  "name": "Eastern Asia",
                  "orientation": "v",
                  "showlegend": true,
                  "type": "scatter",
                  "x": [
                    2000,
                    2001,
                    2002,
                    2003,
                    2004,
                    2005,
                    2006,
                    2007,
                    2008,
                    2009,
                    2010,
                    2011,
                    2012,
                    2013,
                    2014,
                    2015,
                    2016,
                    2017,
                    2018,
                    2019,
                    2020
                  ],
                  "xaxis": "x",
                  "y": [
                    13.020000000000001,
                    12.65,
                    12.406666666666666,
                    11.38,
                    10.063333333333334,
                    8.933333333333334,
                    8.433333333333334,
                    7.956666666666667,
                    7.746666666666667,
                    7.456666666666666,
                    7.126666666666666,
                    6.733333333333333,
                    6.3933333333333335,
                    6.503333333333333,
                    6.953333333333333,
                    7.296666666666667,
                    7.446666666666666,
                    7.746666666666667,
                    8.063333333333334,
                    8.486666666666666,
                    8.486666666666666
                  ],
                  "yaxis": "y"
                },
                {
                  "hovertemplate": "Subregion=Eastern Europe<br>Year=%{x}<br>Renewables Share (%)=%{y}<extra></extra>",
                  "legendgroup": "Eastern Europe",
                  "line": {
                    "color": "#ab63fa",
                    "dash": "solid"
                  },
                  "marker": {
                    "symbol": "circle"
                  },
                  "mode": "lines",
                  "name": "Eastern Europe",
                  "orientation": "v",
                  "showlegend": true,
                  "type": "scatter",
                  "x": [
                    2000,
                    2001,
                    2002,
                    2003,
                    2004,
                    2005,
                    2006,
                    2007,
                    2008,
                    2009,
                    2010,
                    2011,
                    2012,
                    2013,
                    2014,
                    2015,
                    2016,
                    2017,
                    2018,
                    2019,
                    2020
                  ],
                  "xaxis": "x",
                  "y": [
                    6.62625,
                    6.6025,
                    7.00875,
                    7.055,
                    7.45375,
                    8.09375,
                    8.223749999999999,
                    8.68875,
                    9.21625,
                    10.68625,
                    11.5875,
                    11.53375,
                    12.24,
                    13.12375,
                    13.254999999999999,
                    13.5275,
                    13.60875,
                    13.34875,
                    13.59625,
                    14.6825,
                    14.6825
                  ],
                  "yaxis": "y"
                },
                {
                  "hovertemplate": "Subregion=Latin America and the Caribbean<br>Year=%{x}<br>Renewables Share (%)=%{y}<extra></extra>",
                  "legendgroup": "Latin America and the Caribbean",
                  "line": {
                    "color": "#FFA15A",
                    "dash": "solid"
                  },
                  "marker": {
                    "symbol": "circle"
                  },
                  "mode": "lines",
                  "name": "Latin America and the Caribbean",
                  "orientation": "v",
                  "showlegend": true,
                  "type": "scatter",
                  "x": [
                    2000,
                    2001,
                    2002,
                    2003,
                    2004,
                    2005,
                    2006,
                    2007,
                    2008,
                    2009,
                    2010,
                    2011,
                    2012,
                    2013,
                    2014,
                    2015,
                    2016,
                    2017,
                    2018,
                    2019,
                    2020
                  ],
                  "xaxis": "x",
                  "y": [
                    26.109428571428573,
                    25.466470588235296,
                    25.908823529411762,
                    25.582941176470587,
                    25.404411764705884,
                    25.316470588235294,
                    24.46970588235294,
                    23.89529411764706,
                    24.01529411764706,
                    23.875588235294117,
                    23.919117647058822,
                    24.036176470588234,
                    24.039117647058823,
                    23.598529411764705,
                    23.26235294117647,
                    22.625,
                    22.686470588235295,
                    23.14764705882353,
                    23.063235294117646,
                    22.116176470588236,
                    22.116176470588236
                  ],
                  "yaxis": "y"
                },
                {
                  "hovertemplate": "Subregion=Melanesia<br>Year=%{x}<br>Renewables Share (%)=%{y}<extra></extra>",
                  "legendgroup": "Melanesia",
                  "line": {
                    "color": "#19d3f3",
                    "dash": "solid"
                  },
                  "marker": {
                    "symbol": "circle"
                  },
                  "mode": "lines",
                  "name": "Melanesia",
                  "orientation": "v",
                  "showlegend": true,
                  "type": "scatter",
                  "x": [
                    2000,
                    2001,
                    2002,
                    2003,
                    2004,
                    2005,
                    2006,
                    2007,
                    2008,
                    2009,
                    2010,
                    2011,
                    2012,
                    2013,
                    2014,
                    2015,
                    2016,
                    2017,
                    2018,
                    2019,
                    2020
                  ],
                  "xaxis": "x",
                  "y": [
                    45.577999999999996,
                    42.432,
                    44.298,
                    41.614,
                    42.474000000000004,
                    43.524,
                    43.025999999999996,
                    37.734,
                    39.984,
                    37.53,
                    34.012,
                    34.282,
                    35.29,
                    36.146,
                    34.382,
                    35.506,
                    33.608,
                    34.638,
                    32.426,
                    33.044,
                    33.044
                  ],
                  "yaxis": "y"
                },
                {
                  "hovertemplate": "Subregion=Micronesia<br>Year=%{x}<br>Renewables Share (%)=%{y}<extra></extra>",
                  "legendgroup": "Micronesia",
                  "line": {
                    "color": "#FF6692",
                    "dash": "solid"
                  },
                  "marker": {
                    "symbol": "circle"
                  },
                  "mode": "lines",
                  "name": "Micronesia",
                  "orientation": "v",
                  "showlegend": true,
                  "type": "scatter",
                  "x": [
                    2000,
                    2001,
                    2002,
                    2003,
                    2004,
                    2005,
                    2006,
                    2007,
                    2008,
                    2009,
                    2010,
                    2011,
                    2012,
                    2013,
                    2014,
                    2015,
                    2016,
                    2017,
                    2018,
                    2019,
                    2020
                  ],
                  "xaxis": "x",
                  "y": [
                    27.925,
                    27.8,
                    24.555,
                    24.39,
                    23.495,
                    20.735,
                    19.76,
                    22.34,
                    20.805,
                    22.32,
                    24.205000000000002,
                    24.45,
                    23.575,
                    22.295,
                    23.229999999999997,
                    22.915,
                    23.335,
                    20.875,
                    20.845,
                    20.82,
                    20.82
                  ],
                  "yaxis": "y"
                },
                {
                  "hovertemplate": "Subregion=Northern Africa<br>Year=%{x}<br>Renewables Share (%)=%{y}<extra></extra>",
                  "legendgroup": "Northern Africa",
                  "line": {
                    "color": "#B6E880",
                    "dash": "solid"
                  },
                  "marker": {
                    "symbol": "circle"
                  },
                  "mode": "lines",
                  "name": "Northern Africa",
                  "orientation": "v",
                  "showlegend": true,
                  "type": "scatter",
                  "x": [
                    2000,
                    2001,
                    2002,
                    2003,
                    2004,
                    2005,
                    2006,
                    2007,
                    2008,
                    2009,
                    2010,
                    2011,
                    2012,
                    2013,
                    2014,
                    2015,
                    2016,
                    2017,
                    2018,
                    2019,
                    2020
                  ],
                  "xaxis": "x",
                  "y": [
                    20.10833333333333,
                    19.981666666666666,
                    19.495,
                    19.601666666666667,
                    20.51,
                    19.38,
                    18.521666666666665,
                    17.638333333333335,
                    16.99833333333333,
                    17.028333333333332,
                    16.008333333333336,
                    16.266666666666666,
                    16.015,
                    16.426666666666666,
                    16.163333333333334,
                    15.888333333333335,
                    15.158333333333333,
                    15.116666666666665,
                    15.375,
                    15.563333333333333,
                    15.563333333333333
                  ],
                  "yaxis": "y"
                },
                {
                  "hovertemplate": "Subregion=Northern America<br>Year=%{x}<br>Renewables Share (%)=%{y}<extra></extra>",
                  "legendgroup": "Northern America",
                  "line": {
                    "color": "#FF97FF",
                    "dash": "solid"
                  },
                  "marker": {
                    "symbol": "circle"
                  },
                  "mode": "lines",
                  "name": "Northern America",
                  "orientation": "v",
                  "showlegend": true,
                  "type": "scatter",
                  "x": [
                    2000,
                    2001,
                    2002,
                    2003,
                    2004,
                    2005,
                    2006,
                    2007,
                    2008,
                    2009,
                    2010,
                    2011,
                    2012,
                    2013,
                    2014,
                    2015,
                    2016,
                    2017,
                    2018,
                    2019,
                    2020
                  ],
                  "xaxis": "x",
                  "y": [
                    11.25,
                    11.035,
                    11.14,
                    10.845,
                    11.049999999999999,
                    11.239999999999998,
                    11.180000000000001,
                    11.17,
                    11.185,
                    11.465,
                    11.155,
                    11.13,
                    11.305000000000001,
                    11.955,
                    11.459999999999999,
                    11.620000000000001,
                    11.57,
                    11.555,
                    11.33,
                    11.475,
                    11.475
                  ],
                  "yaxis": "y"
                },
                {
                  "hovertemplate": "Subregion=Northern Europe<br>Year=%{x}<br>Renewables Share (%)=%{y}<extra></extra>",
                  "legendgroup": "Northern Europe",
                  "line": {
                    "color": "#FECB52",
                    "dash": "solid"
                  },
                  "marker": {
                    "symbol": "circle"
                  },
                  "mode": "lines",
                  "name": "Northern Europe",
                  "orientation": "v",
                  "showlegend": true,
                  "type": "scatter",
                  "x": [
                    2000,
                    2001,
                    2002,
                    2003,
                    2004,
                    2005,
                    2006,
                    2007,
                    2008,
                    2009,
                    2010,
                    2011,
                    2012,
                    2013,
                    2014,
                    2015,
                    2016,
                    2017,
                    2018,
                    2019,
                    2020
                  ],
                  "xaxis": "x",
                  "y": [
                    30.883333333333333,
                    30.366666666666667,
                    30.27444444444445,
                    29.775555555555556,
                    30.68333333333333,
                    31.50222222222222,
                    31.055555555555557,
                    32.04333333333333,
                    33.92777777777778,
                    35.20333333333333,
                    35.205555555555556,
                    36.46333333333334,
                    38.39666666666667,
                    38.31111111111111,
                    39.52777777777778,
                    40.87777777777777,
                    41.208888888888886,
                    42.96333333333334,
                    42.87888888888889,
                    44.25333333333333,
                    44.25333333333333
                  ],
                  "yaxis": "y"
                },
                {
                  "hovertemplate": "Subregion=Polynesia<br>Year=%{x}<br>Renewables Share (%)=%{y}<extra></extra>",
                  "legendgroup": "Polynesia",
                  "line": {
                    "color": "#636efa",
                    "dash": "solid"
                  },
                  "marker": {
                    "symbol": "circle"
                  },
                  "mode": "lines",
                  "name": "Polynesia",
                  "orientation": "v",
                  "showlegend": true,
                  "type": "scatter",
                  "x": [
                    2000,
                    2001,
                    2002,
                    2003,
                    2004,
                    2005,
                    2006,
                    2007,
                    2008,
                    2009,
                    2010,
                    2011,
                    2012,
                    2013,
                    2014,
                    2015,
                    2016,
                    2017,
                    2018,
                    2019,
                    2020
                  ],
                  "xaxis": "x",
                  "y": [
                    20.723333333333333,
                    18.37,
                    17.35333333333333,
                    18.139999999999997,
                    16.99,
                    17.013333333333332,
                    15.94,
                    15.116666666666667,
                    15.62,
                    15.033333333333333,
                    14.183333333333335,
                    13.886666666666665,
                    13.906666666666666,
                    15.006666666666666,
                    14.58,
                    14.43,
                    16.103333333333335,
                    15.496666666666664,
                    15.576666666666668,
                    14.726666666666667,
                    14.726666666666667
                  ],
                  "yaxis": "y"
                },
                {
                  "hovertemplate": "Subregion=South-eastern Asia<br>Year=%{x}<br>Renewables Share (%)=%{y}<extra></extra>",
                  "legendgroup": "South-eastern Asia",
                  "line": {
                    "color": "#EF553B",
                    "dash": "solid"
                  },
                  "marker": {
                    "symbol": "circle"
                  },
                  "mode": "lines",
                  "name": "South-eastern Asia",
                  "orientation": "v",
                  "showlegend": true,
                  "type": "scatter",
                  "x": [
                    2000,
                    2001,
                    2002,
                    2003,
                    2004,
                    2005,
                    2006,
                    2007,
                    2008,
                    2009,
                    2010,
                    2011,
                    2012,
                    2013,
                    2014,
                    2015,
                    2016,
                    2017,
                    2018,
                    2019,
                    2020
                  ],
                  "xaxis": "x",
                  "y": [
                    38.19714285714286,
                    37.74142857142857,
                    37.74714285714286,
                    36.79571428571428,
                    36.60285714285715,
                    36.49428571428571,
                    36.708571428571425,
                    36.14714285714286,
                    37.29571428571428,
                    35.894285714285715,
                    34.63,
                    34.04,
                    33.17857142857143,
                    32.885714285714286,
                    32.11571428571428,
                    30.744285714285716,
                    30.21285714285714,
                    28.305714285714284,
                    27.747142857142855,
                    26.705714285714286,
                    26.705714285714286
                  ],
                  "yaxis": "y"
                },
                {
                  "hovertemplate": "Subregion=Southern Asia<br>Year=%{x}<br>Renewables Share (%)=%{y}<extra></extra>",
                  "legendgroup": "Southern Asia",
                  "line": {
                    "color": "#00cc96",
                    "dash": "solid"
                  },
                  "marker": {
                    "symbol": "circle"
                  },
                  "mode": "lines",
                  "name": "Southern Asia",
                  "orientation": "v",
                  "showlegend": true,
                  "type": "scatter",
                  "x": [
                    2000,
                    2001,
                    2002,
                    2003,
                    2004,
                    2005,
                    2006,
                    2007,
                    2008,
                    2009,
                    2010,
                    2011,
                    2012,
                    2013,
                    2014,
                    2015,
                    2016,
                    2017,
                    2018,
                    2019,
                    2020
                  ],
                  "xaxis": "x",
                  "y": [
                    56.02125,
                    55.59625,
                    54.29125,
                    53.73625,
                    54.5225,
                    52.485,
                    52.215,
                    50.93125,
                    49.72,
                    48.7225,
                    47.53625,
                    46.1675,
                    46.0675,
                    46.35125,
                    45.55375,
                    44.34125,
                    42.93375,
                    41.58625,
                    41.246249999999996,
                    41.27875,
                    41.27875
                  ],
                  "yaxis": "y"
                },
                {
                  "hovertemplate": "Subregion=Southern Europe<br>Year=%{x}<br>Renewables Share (%)=%{y}<extra></extra>",
                  "legendgroup": "Southern Europe",
                  "line": {
                    "color": "#ab63fa",
                    "dash": "solid"
                  },
                  "marker": {
                    "symbol": "circle"
                  },
                  "mode": "lines",
                  "name": "Southern Europe",
                  "orientation": "v",
                  "showlegend": true,
                  "type": "scatter",
                  "x": [
                    2000,
                    2001,
                    2002,
                    2003,
                    2004,
                    2005,
                    2006,
                    2007,
                    2008,
                    2009,
                    2010,
                    2011,
                    2012,
                    2013,
                    2014,
                    2015,
                    2016,
                    2017,
                    2018,
                    2019,
                    2020
                  ],
                  "xaxis": "x",
                  "y": [
                    14.290000000000001,
                    14.178999999999998,
                    13.399000000000001,
                    14.261000000000001,
                    14.297,
                    14.289000000000001,
                    14.631,
                    16.293333333333333,
                    16.395,
                    19.173333333333332,
                    20.6175,
                    18.755,
                    19.965833333333332,
                    22.262500000000003,
                    22.915000000000003,
                    22.49416666666667,
                    22.36916666666667,
                    20.2925,
                    23.103333333333335,
                    22.793333333333337,
                    22.793333333333337
                  ],
                  "yaxis": "y"
                },
                {
                  "hovertemplate": "Subregion=Sub-Saharan Africa<br>Year=%{x}<br>Renewables Share (%)=%{y}<extra></extra>",
                  "legendgroup": "Sub-Saharan Africa",
                  "line": {
                    "color": "#FFA15A",
                    "dash": "solid"
                  },
                  "marker": {
                    "symbol": "circle"
                  },
                  "mode": "lines",
                  "name": "Sub-Saharan Africa",
                  "orientation": "v",
                  "showlegend": true,
                  "type": "scatter",
                  "x": [
                    2000,
                    2001,
                    2002,
                    2003,
                    2004,
                    2005,
                    2006,
                    2007,
                    2008,
                    2009,
                    2010,
                    2011,
                    2012,
                    2013,
                    2014,
                    2015,
                    2016,
                    2017,
                    2018,
                    2019,
                    2020
                  ],
                  "xaxis": "x",
                  "y": [
                    70.12906976744186,
                    69.71581395348838,
                    69.44046511627907,
                    68.73046511627906,
                    67.86488372093024,
                    68.13139534883722,
                    67.98953488372094,
                    67.30837209302325,
                    66.9632558139535,
                    66.39209302325581,
                    65.56813953488371,
                    64.9646511627907,
                    64.13441860465116,
                    63.32363636363637,
                    62.86409090909091,
                    62.22545454545455,
                    61.75454545454545,
                    61.4475,
                    61.155454545454546,
                    60.63818181818181,
                    60.64727272727273
                  ],
                  "yaxis": "y"
                },
                {
                  "hovertemplate": "Subregion=Western Asia<br>Year=%{x}<br>Renewables Share (%)=%{y}<extra></extra>",
                  "legendgroup": "Western Asia",
                  "line": {
                    "color": "#19d3f3",
                    "dash": "solid"
                  },
                  "marker": {
                    "symbol": "circle"
                  },
                  "mode": "lines",
                  "name": "Western Asia",
                  "orientation": "v",
                  "showlegend": true,
                  "type": "scatter",
                  "x": [
                    2000,
                    2001,
                    2002,
                    2003,
                    2004,
                    2005,
                    2006,
                    2007,
                    2008,
                    2009,
                    2010,
                    2011,
                    2012,
                    2013,
                    2014,
                    2015,
                    2016,
                    2017,
                    2018,
                    2019,
                    2020
                  ],
                  "xaxis": "x",
                  "y": [
                    4.932,
                    5.191999999999999,
                    5.805999999999999,
                    5.897333333333333,
                    5.731333333333334,
                    4.912,
                    4.730666666666666,
                    4.752,
                    4.694,
                    4.784,
                    5.294,
                    4.756666666666666,
                    4.0440000000000005,
                    4.4639999999999995,
                    4.208666666666667,
                    4.387333333333333,
                    4.621333333333333,
                    4.686000000000001,
                    4.888,
                    4.7780000000000005,
                    4.7780000000000005
                  ],
                  "yaxis": "y"
                },
                {
                  "hovertemplate": "Subregion=Western Europe<br>Year=%{x}<br>Renewables Share (%)=%{y}<extra></extra>",
                  "legendgroup": "Western Europe",
                  "line": {
                    "color": "#FF6692",
                    "dash": "solid"
                  },
                  "marker": {
                    "symbol": "circle"
                  },
                  "mode": "lines",
                  "name": "Western Europe",
                  "orientation": "v",
                  "showlegend": true,
                  "type": "scatter",
                  "x": [
                    2000,
                    2001,
                    2002,
                    2003,
                    2004,
                    2005,
                    2006,
                    2007,
                    2008,
                    2009,
                    2010,
                    2011,
                    2012,
                    2013,
                    2014,
                    2015,
                    2016,
                    2017,
                    2018,
                    2019,
                    2020
                  ],
                  "xaxis": "x",
                  "y": [
                    10.983333333333334,
                    10.435,
                    9.835,
                    9.685,
                    9.988333333333335,
                    10.568333333333333,
                    11.12,
                    12.534999999999998,
                    12.991666666666667,
                    13.646666666666667,
                    14.201666666666666,
                    14.305,
                    15.676666666666668,
                    16.235,
                    16.845,
                    17.518333333333334,
                    18.32,
                    18.88,
                    19.398333333333333,
                    19.648333333333337,
                    19.648333333333337
                  ],
                  "yaxis": "y"
                }
              ],
              "layout": {
                "height": 600,
                "legend": {
                  "orientation": "h",
                  "title": {
                    "text": "Subregion"
                  },
                  "tracegroupgap": 0,
                  "x": 0.5,
                  "xanchor": "center",
                  "y": -0.3,
                  "yanchor": "top"
                },
                "template": {
                  "data": {
                    "bar": [
                      {
                        "error_x": {
                          "color": "#2a3f5f"
                        },
                        "error_y": {
                          "color": "#2a3f5f"
                        },
                        "marker": {
                          "line": {
                            "color": "#E5ECF6",
                            "width": 0.5
                          },
                          "pattern": {
                            "fillmode": "overlay",
                            "size": 10,
                            "solidity": 0.2
                          }
                        },
                        "type": "bar"
                      }
                    ],
                    "barpolar": [
                      {
                        "marker": {
                          "line": {
                            "color": "#E5ECF6",
                            "width": 0.5
                          },
                          "pattern": {
                            "fillmode": "overlay",
                            "size": 10,
                            "solidity": 0.2
                          }
                        },
                        "type": "barpolar"
                      }
                    ],
                    "carpet": [
                      {
                        "aaxis": {
                          "endlinecolor": "#2a3f5f",
                          "gridcolor": "white",
                          "linecolor": "white",
                          "minorgridcolor": "white",
                          "startlinecolor": "#2a3f5f"
                        },
                        "baxis": {
                          "endlinecolor": "#2a3f5f",
                          "gridcolor": "white",
                          "linecolor": "white",
                          "minorgridcolor": "white",
                          "startlinecolor": "#2a3f5f"
                        },
                        "type": "carpet"
                      }
                    ],
                    "choropleth": [
                      {
                        "colorbar": {
                          "outlinewidth": 0,
                          "ticks": ""
                        },
                        "type": "choropleth"
                      }
                    ],
                    "contour": [
                      {
                        "colorbar": {
                          "outlinewidth": 0,
                          "ticks": ""
                        },
                        "colorscale": [
                          [
                            0,
                            "#0d0887"
                          ],
                          [
                            0.1111111111111111,
                            "#46039f"
                          ],
                          [
                            0.2222222222222222,
                            "#7201a8"
                          ],
                          [
                            0.3333333333333333,
                            "#9c179e"
                          ],
                          [
                            0.4444444444444444,
                            "#bd3786"
                          ],
                          [
                            0.5555555555555556,
                            "#d8576b"
                          ],
                          [
                            0.6666666666666666,
                            "#ed7953"
                          ],
                          [
                            0.7777777777777778,
                            "#fb9f3a"
                          ],
                          [
                            0.8888888888888888,
                            "#fdca26"
                          ],
                          [
                            1,
                            "#f0f921"
                          ]
                        ],
                        "type": "contour"
                      }
                    ],
                    "contourcarpet": [
                      {
                        "colorbar": {
                          "outlinewidth": 0,
                          "ticks": ""
                        },
                        "type": "contourcarpet"
                      }
                    ],
                    "heatmap": [
                      {
                        "colorbar": {
                          "outlinewidth": 0,
                          "ticks": ""
                        },
                        "colorscale": [
                          [
                            0,
                            "#0d0887"
                          ],
                          [
                            0.1111111111111111,
                            "#46039f"
                          ],
                          [
                            0.2222222222222222,
                            "#7201a8"
                          ],
                          [
                            0.3333333333333333,
                            "#9c179e"
                          ],
                          [
                            0.4444444444444444,
                            "#bd3786"
                          ],
                          [
                            0.5555555555555556,
                            "#d8576b"
                          ],
                          [
                            0.6666666666666666,
                            "#ed7953"
                          ],
                          [
                            0.7777777777777778,
                            "#fb9f3a"
                          ],
                          [
                            0.8888888888888888,
                            "#fdca26"
                          ],
                          [
                            1,
                            "#f0f921"
                          ]
                        ],
                        "type": "heatmap"
                      }
                    ],
                    "heatmapgl": [
                      {
                        "colorbar": {
                          "outlinewidth": 0,
                          "ticks": ""
                        },
                        "colorscale": [
                          [
                            0,
                            "#0d0887"
                          ],
                          [
                            0.1111111111111111,
                            "#46039f"
                          ],
                          [
                            0.2222222222222222,
                            "#7201a8"
                          ],
                          [
                            0.3333333333333333,
                            "#9c179e"
                          ],
                          [
                            0.4444444444444444,
                            "#bd3786"
                          ],
                          [
                            0.5555555555555556,
                            "#d8576b"
                          ],
                          [
                            0.6666666666666666,
                            "#ed7953"
                          ],
                          [
                            0.7777777777777778,
                            "#fb9f3a"
                          ],
                          [
                            0.8888888888888888,
                            "#fdca26"
                          ],
                          [
                            1,
                            "#f0f921"
                          ]
                        ],
                        "type": "heatmapgl"
                      }
                    ],
                    "histogram": [
                      {
                        "marker": {
                          "pattern": {
                            "fillmode": "overlay",
                            "size": 10,
                            "solidity": 0.2
                          }
                        },
                        "type": "histogram"
                      }
                    ],
                    "histogram2d": [
                      {
                        "colorbar": {
                          "outlinewidth": 0,
                          "ticks": ""
                        },
                        "colorscale": [
                          [
                            0,
                            "#0d0887"
                          ],
                          [
                            0.1111111111111111,
                            "#46039f"
                          ],
                          [
                            0.2222222222222222,
                            "#7201a8"
                          ],
                          [
                            0.3333333333333333,
                            "#9c179e"
                          ],
                          [
                            0.4444444444444444,
                            "#bd3786"
                          ],
                          [
                            0.5555555555555556,
                            "#d8576b"
                          ],
                          [
                            0.6666666666666666,
                            "#ed7953"
                          ],
                          [
                            0.7777777777777778,
                            "#fb9f3a"
                          ],
                          [
                            0.8888888888888888,
                            "#fdca26"
                          ],
                          [
                            1,
                            "#f0f921"
                          ]
                        ],
                        "type": "histogram2d"
                      }
                    ],
                    "histogram2dcontour": [
                      {
                        "colorbar": {
                          "outlinewidth": 0,
                          "ticks": ""
                        },
                        "colorscale": [
                          [
                            0,
                            "#0d0887"
                          ],
                          [
                            0.1111111111111111,
                            "#46039f"
                          ],
                          [
                            0.2222222222222222,
                            "#7201a8"
                          ],
                          [
                            0.3333333333333333,
                            "#9c179e"
                          ],
                          [
                            0.4444444444444444,
                            "#bd3786"
                          ],
                          [
                            0.5555555555555556,
                            "#d8576b"
                          ],
                          [
                            0.6666666666666666,
                            "#ed7953"
                          ],
                          [
                            0.7777777777777778,
                            "#fb9f3a"
                          ],
                          [
                            0.8888888888888888,
                            "#fdca26"
                          ],
                          [
                            1,
                            "#f0f921"
                          ]
                        ],
                        "type": "histogram2dcontour"
                      }
                    ],
                    "mesh3d": [
                      {
                        "colorbar": {
                          "outlinewidth": 0,
                          "ticks": ""
                        },
                        "type": "mesh3d"
                      }
                    ],
                    "parcoords": [
                      {
                        "line": {
                          "colorbar": {
                            "outlinewidth": 0,
                            "ticks": ""
                          }
                        },
                        "type": "parcoords"
                      }
                    ],
                    "pie": [
                      {
                        "automargin": true,
                        "type": "pie"
                      }
                    ],
                    "scatter": [
                      {
                        "fillpattern": {
                          "fillmode": "overlay",
                          "size": 10,
                          "solidity": 0.2
                        },
                        "type": "scatter"
                      }
                    ],
                    "scatter3d": [
                      {
                        "line": {
                          "colorbar": {
                            "outlinewidth": 0,
                            "ticks": ""
                          }
                        },
                        "marker": {
                          "colorbar": {
                            "outlinewidth": 0,
                            "ticks": ""
                          }
                        },
                        "type": "scatter3d"
                      }
                    ],
                    "scattercarpet": [
                      {
                        "marker": {
                          "colorbar": {
                            "outlinewidth": 0,
                            "ticks": ""
                          }
                        },
                        "type": "scattercarpet"
                      }
                    ],
                    "scattergeo": [
                      {
                        "marker": {
                          "colorbar": {
                            "outlinewidth": 0,
                            "ticks": ""
                          }
                        },
                        "type": "scattergeo"
                      }
                    ],
                    "scattergl": [
                      {
                        "marker": {
                          "colorbar": {
                            "outlinewidth": 0,
                            "ticks": ""
                          }
                        },
                        "type": "scattergl"
                      }
                    ],
                    "scattermapbox": [
                      {
                        "marker": {
                          "colorbar": {
                            "outlinewidth": 0,
                            "ticks": ""
                          }
                        },
                        "type": "scattermapbox"
                      }
                    ],
                    "scatterpolar": [
                      {
                        "marker": {
                          "colorbar": {
                            "outlinewidth": 0,
                            "ticks": ""
                          }
                        },
                        "type": "scatterpolar"
                      }
                    ],
                    "scatterpolargl": [
                      {
                        "marker": {
                          "colorbar": {
                            "outlinewidth": 0,
                            "ticks": ""
                          }
                        },
                        "type": "scatterpolargl"
                      }
                    ],
                    "scatterternary": [
                      {
                        "marker": {
                          "colorbar": {
                            "outlinewidth": 0,
                            "ticks": ""
                          }
                        },
                        "type": "scatterternary"
                      }
                    ],
                    "surface": [
                      {
                        "colorbar": {
                          "outlinewidth": 0,
                          "ticks": ""
                        },
                        "colorscale": [
                          [
                            0,
                            "#0d0887"
                          ],
                          [
                            0.1111111111111111,
                            "#46039f"
                          ],
                          [
                            0.2222222222222222,
                            "#7201a8"
                          ],
                          [
                            0.3333333333333333,
                            "#9c179e"
                          ],
                          [
                            0.4444444444444444,
                            "#bd3786"
                          ],
                          [
                            0.5555555555555556,
                            "#d8576b"
                          ],
                          [
                            0.6666666666666666,
                            "#ed7953"
                          ],
                          [
                            0.7777777777777778,
                            "#fb9f3a"
                          ],
                          [
                            0.8888888888888888,
                            "#fdca26"
                          ],
                          [
                            1,
                            "#f0f921"
                          ]
                        ],
                        "type": "surface"
                      }
                    ],
                    "table": [
                      {
                        "cells": {
                          "fill": {
                            "color": "#EBF0F8"
                          },
                          "line": {
                            "color": "white"
                          }
                        },
                        "header": {
                          "fill": {
                            "color": "#C8D4E3"
                          },
                          "line": {
                            "color": "white"
                          }
                        },
                        "type": "table"
                      }
                    ]
                  },
                  "layout": {
                    "annotationdefaults": {
                      "arrowcolor": "#2a3f5f",
                      "arrowhead": 0,
                      "arrowwidth": 1
                    },
                    "autotypenumbers": "strict",
                    "coloraxis": {
                      "colorbar": {
                        "outlinewidth": 0,
                        "ticks": ""
                      }
                    },
                    "colorscale": {
                      "diverging": [
                        [
                          0,
                          "#8e0152"
                        ],
                        [
                          0.1,
                          "#c51b7d"
                        ],
                        [
                          0.2,
                          "#de77ae"
                        ],
                        [
                          0.3,
                          "#f1b6da"
                        ],
                        [
                          0.4,
                          "#fde0ef"
                        ],
                        [
                          0.5,
                          "#f7f7f7"
                        ],
                        [
                          0.6,
                          "#e6f5d0"
                        ],
                        [
                          0.7,
                          "#b8e186"
                        ],
                        [
                          0.8,
                          "#7fbc41"
                        ],
                        [
                          0.9,
                          "#4d9221"
                        ],
                        [
                          1,
                          "#276419"
                        ]
                      ],
                      "sequential": [
                        [
                          0,
                          "#0d0887"
                        ],
                        [
                          0.1111111111111111,
                          "#46039f"
                        ],
                        [
                          0.2222222222222222,
                          "#7201a8"
                        ],
                        [
                          0.3333333333333333,
                          "#9c179e"
                        ],
                        [
                          0.4444444444444444,
                          "#bd3786"
                        ],
                        [
                          0.5555555555555556,
                          "#d8576b"
                        ],
                        [
                          0.6666666666666666,
                          "#ed7953"
                        ],
                        [
                          0.7777777777777778,
                          "#fb9f3a"
                        ],
                        [
                          0.8888888888888888,
                          "#fdca26"
                        ],
                        [
                          1,
                          "#f0f921"
                        ]
                      ],
                      "sequentialminus": [
                        [
                          0,
                          "#0d0887"
                        ],
                        [
                          0.1111111111111111,
                          "#46039f"
                        ],
                        [
                          0.2222222222222222,
                          "#7201a8"
                        ],
                        [
                          0.3333333333333333,
                          "#9c179e"
                        ],
                        [
                          0.4444444444444444,
                          "#bd3786"
                        ],
                        [
                          0.5555555555555556,
                          "#d8576b"
                        ],
                        [
                          0.6666666666666666,
                          "#ed7953"
                        ],
                        [
                          0.7777777777777778,
                          "#fb9f3a"
                        ],
                        [
                          0.8888888888888888,
                          "#fdca26"
                        ],
                        [
                          1,
                          "#f0f921"
                        ]
                      ]
                    },
                    "colorway": [
                      "#636efa",
                      "#EF553B",
                      "#00cc96",
                      "#ab63fa",
                      "#FFA15A",
                      "#19d3f3",
                      "#FF6692",
                      "#B6E880",
                      "#FF97FF",
                      "#FECB52"
                    ],
                    "font": {
                      "color": "#2a3f5f"
                    },
                    "geo": {
                      "bgcolor": "white",
                      "lakecolor": "white",
                      "landcolor": "#E5ECF6",
                      "showlakes": true,
                      "showland": true,
                      "subunitcolor": "white"
                    },
                    "hoverlabel": {
                      "align": "left"
                    },
                    "hovermode": "closest",
                    "mapbox": {
                      "style": "light"
                    },
                    "paper_bgcolor": "white",
                    "plot_bgcolor": "#E5ECF6",
                    "polar": {
                      "angularaxis": {
                        "gridcolor": "white",
                        "linecolor": "white",
                        "ticks": ""
                      },
                      "bgcolor": "#E5ECF6",
                      "radialaxis": {
                        "gridcolor": "white",
                        "linecolor": "white",
                        "ticks": ""
                      }
                    },
                    "scene": {
                      "xaxis": {
                        "backgroundcolor": "#E5ECF6",
                        "gridcolor": "white",
                        "gridwidth": 2,
                        "linecolor": "white",
                        "showbackground": true,
                        "ticks": "",
                        "zerolinecolor": "white"
                      },
                      "yaxis": {
                        "backgroundcolor": "#E5ECF6",
                        "gridcolor": "white",
                        "gridwidth": 2,
                        "linecolor": "white",
                        "showbackground": true,
                        "ticks": "",
                        "zerolinecolor": "white"
                      },
                      "zaxis": {
                        "backgroundcolor": "#E5ECF6",
                        "gridcolor": "white",
                        "gridwidth": 2,
                        "linecolor": "white",
                        "showbackground": true,
                        "ticks": "",
                        "zerolinecolor": "white"
                      }
                    },
                    "shapedefaults": {
                      "line": {
                        "color": "#2a3f5f"
                      }
                    },
                    "ternary": {
                      "aaxis": {
                        "gridcolor": "white",
                        "linecolor": "white",
                        "ticks": ""
                      },
                      "baxis": {
                        "gridcolor": "white",
                        "linecolor": "white",
                        "ticks": ""
                      },
                      "bgcolor": "#E5ECF6",
                      "caxis": {
                        "gridcolor": "white",
                        "linecolor": "white",
                        "ticks": ""
                      }
                    },
                    "title": {
                      "x": 0.05
                    },
                    "xaxis": {
                      "automargin": true,
                      "gridcolor": "white",
                      "linecolor": "white",
                      "ticks": "",
                      "title": {
                        "standoff": 15
                      },
                      "zerolinecolor": "white",
                      "zerolinewidth": 2
                    },
                    "yaxis": {
                      "automargin": true,
                      "gridcolor": "white",
                      "linecolor": "white",
                      "ticks": "",
                      "title": {
                        "standoff": 15
                      },
                      "zerolinecolor": "white",
                      "zerolinewidth": 2
                    }
                  }
                },
                "title": {
                  "text": "Renewables Share Over Time by Subregion"
                },
                "xaxis": {
                  "anchor": "y",
                  "domain": [
                    0,
                    1
                  ],
                  "tickangle": 45,
                  "tickmode": "linear",
                  "title": {
                    "text": "Year"
                  }
                },
                "yaxis": {
                  "anchor": "x",
                  "domain": [
                    0,
                    1
                  ],
                  "title": {
                    "text": "Renewables Share (%)"
                  }
                }
              }
            }
          },
          "metadata": {},
          "output_type": "display_data"
        }
      ],
      "source": [
        "# Create a plotly line chart — renewables share over time by subregion\n",
        "\n",
        "import pandas as pd\n",
        "import plotly.express as px\n",
        "\n",
        "# Load data\n",
        "df = pd.read_csv(\"../data/cleaned/enhanced_energy_features.csv\")\n",
        "df_filtered = df[['year', 'subregion', 'renewables_share_pct']].dropna()\n",
        "df_filtered['year'] = df_filtered['year'].astype(int)\n",
        "\n",
        "# Group by year and subregion\n",
        "df_grouped = (\n",
        "    df_filtered\n",
        "    .groupby(['year', 'subregion'])['renewables_share_pct']\n",
        "    .mean()\n",
        "    .reset_index()\n",
        ")\n",
        "\n",
        "# Plotly line chart\n",
        "fig = px.line(\n",
        "    df_grouped,\n",
        "    x='year',\n",
        "    y='renewables_share_pct',\n",
        "    color='subregion',\n",
        "    title='Renewables Share Over Time by Subregion',\n",
        "    labels={\n",
        "        'year': 'Year',\n",
        "        'renewables_share_pct': 'Renewables Share (%)',\n",
        "        'subregion': 'Subregion'\n",
        "    },\n",
        "    markers=False\n",
        ")\n",
        "\n",
        "# Update layout: rotate x-axis ticks and move legend to bottom\n",
        "fig.update_layout(\n",
        "    xaxis=dict(\n",
        "        tickmode='linear',\n",
        "        tickangle=45\n",
        "    ),\n",
        "    legend_title='Subregion',\n",
        "    height=600,\n",
        "    legend=dict(\n",
        "        orientation=\"h\",\n",
        "        yanchor=\"top\",\n",
        "        y=-0.3,         # Adjust if needed\n",
        "        xanchor=\"center\",\n",
        "        x=0.5\n",
        "    )\n",
        ")\n",
        "\n",
        "fig.show()\n"
      ]
    },
    {
      "cell_type": "code",
      "execution_count": null,
      "metadata": {},
      "outputs": [],
      "source": []
    }
  ],
  "metadata": {
    "accelerator": "GPU",
    "colab": {
      "name": "Data Practitioner Jupyter Notebook.ipynb",
      "provenance": [],
      "toc_visible": true
    },
    "kernelspec": {
      "display_name": ".venv",
      "language": "python",
      "name": "python3"
    },
    "language_info": {
      "codemirror_mode": {
        "name": "ipython",
        "version": 3
      },
      "file_extension": ".py",
      "mimetype": "text/x-python",
      "name": "python",
      "nbconvert_exporter": "python",
      "pygments_lexer": "ipython3",
      "version": "3.12.8"
    },
    "orig_nbformat": 2
  },
  "nbformat": 4,
  "nbformat_minor": 2
}
